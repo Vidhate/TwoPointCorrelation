{
 "cells": [
  {
   "cell_type": "markdown",
   "metadata": {},
   "source": [
    "<h2> Quantity to be evaluated is as described in personal notes on Aseem's Halo Model notes </h2><br>\n",
    "The analytical calculation for 2-Halo (inter-halo) 2 point correlation function.\n",
    "$$ \\xi_{2h}(r)=\\int_0^\\infty d\\ln k \\dfrac{sin(kr)}{kr} \\Delta^{lin}(k) \\left[\\int_{\\ln m_1}^{\\ln m_2} d\\ln m \\left(\\dfrac{dn}{d\\ln m}\\right) \\dfrac{m}{\\bar\\rho_{m}} b(m) u(k|m) \\right]^2$$\n",
    "<br>\n",
    "where -<br>\n",
    "$$\\Delta^{lin}(k)$$ is the dimensionless Power Spectrum, normalised properly using sigma_8 value today.<br>\n",
    "$$\\left(\\dfrac{dn}{d\\ln m}\\right)$$ is the mass function used to define the abundance of Halos. For this calculation I'll be using the Tinker et.al.[2008] mass function.<br>\n",
    "$$ b(m)$$ is the universal function for Large Scale Bias. Currently using the one defined by Tinker et.al.[2010].<br>\n",
    "$$u(k|m)$$ gives the internal Halo density profile of a halo of givem mass m. In this calculation, I am using NFW Halo Profile.<br>\n"
   ]
  },
  {
   "cell_type": "code",
   "execution_count": 38,
   "metadata": {},
   "outputs": [],
   "source": [
    "import numpy as np\n",
    "import matplotlib.pyplot as plt\n",
    "import pickle"
   ]
  },
  {
   "cell_type": "code",
   "execution_count": 44,
   "metadata": {},
   "outputs": [],
   "source": [
    "# Aseem's Cosmology\n",
    "sigma_8=0.811\n",
    "ns=0.961\n",
    "h=0.7\n",
    "Ob=0.045\n",
    "Om=0.276\n",
    "\n",
    "z=2.3         # Redshift specification\n",
    "M_sun=1.989e+30  # M_sun in kg\n",
    "Mega_parsec=3.086e+22  # parsec in metres\n",
    "Delta=200.0   # Overdensity definition = Delta X background\n",
    "rho_cr=((3*(100*h)**2)/(8*np.pi*6.673e-11))*((Mega_parsec/h**3)*1e+6/(M_sun/h))\n",
    "# critical density of the Universe today 3H^2/8Pi*G in units M_sun.h^-1/(MPc.h^-1)^3\n",
    "rho_m=Om*rho_cr*((1+z)**3)  # where a=1/(1+z)   Units same as rho_cr\n",
    "del_crit=1.69"
   ]
  },
  {
   "cell_type": "code",
   "execution_count": 68,
   "metadata": {},
   "outputs": [],
   "source": [
    "# Input data : Normalised Power spectrum\n",
    "\n",
    "#PS=np.loadtxt(\"./../Normalize PS/NormalizedDimensionlessPS_finessed.txt\")\n",
    "PS=np.loadtxt(\"./../Normalize PS/NormalizedDimensionlessPS_atTFk.txt\")\n",
    "k=PS[:,0]\n",
    "ps=PS[:,1]/(1+z)**2   # Dimensionless PS = k^3*P(k)/2Pi^2 at redshift z"
   ]
  },
  {
   "cell_type": "code",
   "execution_count": 95,
   "metadata": {},
   "outputs": [],
   "source": [
    "# Calculating the mass intergal below\n",
    "M_min=2.6765e+11  # Units of Msun/h\n",
    "M_max=6.0536e+11  # Units of Msun/h\n",
    "nob=1000\n",
    "\n",
    "#m_lin=np.linspace(M_min,M_max,nob)\n",
    "m_log=np.exp(np.linspace(np.log(M_min),np.log(M_max),nob))\n",
    "\n",
    "# Importing the density profile of the Halos of above given masses\n",
    "# The following data is a 2D numpy array with 1st index=Mass of halo and 2nd index=k from the power spectrum imported later\n",
    "#u_NFWlin=pickle.load(open('./../NFW Profiles/LinearV1.p','rb'))\n",
    "#u_NFWlog=pickle.load(open('./../NFW Profiles/LogV1.p','rb'))\n",
    "\n",
    "# Importing Mass Function (dn/dlnm) and Bias for the above given masses\n",
    "MF=pickle.load(open(\"./../Tinker MF & Bias/LogMFV3.p\",'rb'))\n",
    "Bias=pickle.load(open(\"./../Tinker MF & Bias/LogBiasV3.p\",'rb'))\n",
    "\n",
    "# Doing the calculations for the inegral in square brackets of the equation in the header\n",
    "res=[]\n",
    "\n",
    "f=MF*(m_log/rho_m)*Bias#*u_NFWlog[:,i]\n",
    "res=np.trapz(f,np.log(m_log))\n",
    "\n",
    "#f_lin=MFlin*(1.0/rho_m)*Biaslin#*u_NFWlin[:,i]\n",
    "#res_lin=np.trapz(f_lin,m_lin)\n",
    "    \n",
    "#res_log=np.array(res_log)\n",
    "#res_lin=np.array(res_lin)"
   ]
  },
  {
   "cell_type": "code",
   "execution_count": 96,
   "metadata": {},
   "outputs": [],
   "source": [
    "# Defining the terms in k outside the square bracket\n",
    "\n",
    "R=pickle.load(open(\"./radii.p\",'rb'))\n",
    "result,result2=[],[]\n",
    "for r in R:\n",
    "    function=ps*np.sinc(k*r/np.pi)\n",
    "#    function=(res**2)*ps*np.sin(k*r)/(k*r)\n",
    "    #function2=(res_lin**2)*ps*np.sin(k*r)/(k*r)\n",
    "    result.append(np.trapz(function,np.log(k)))\n",
    "    #result2.append(np.trapz(function2,np.log(k)))\n",
    "\n",
    "result=(res**2)*np.array(result)\n",
    "#result2=np.array(result2)\n",
    "#print(R.size,result.size)"
   ]
  },
  {
   "cell_type": "code",
   "execution_count": 97,
   "metadata": {},
   "outputs": [],
   "source": [
    "#plt.loglog(R,result,label='MF z Bias z')"
   ]
  },
  {
   "cell_type": "code",
   "execution_count": 98,
   "metadata": {},
   "outputs": [],
   "source": [
    "pickle.dump(result,open(\"Analytic2PC.p\",\"wb\"))"
   ]
  },
  {
   "cell_type": "code",
   "execution_count": null,
   "metadata": {},
   "outputs": [],
   "source": []
  }
 ],
 "metadata": {
  "kernelspec": {
   "display_name": "Python 3",
   "language": "python",
   "name": "python3"
  },
  "language_info": {
   "codemirror_mode": {
    "name": "ipython",
    "version": 3
   },
   "file_extension": ".py",
   "mimetype": "text/x-python",
   "name": "python",
   "nbconvert_exporter": "python",
   "pygments_lexer": "ipython3",
   "version": "3.7.1"
  }
 },
 "nbformat": 4,
 "nbformat_minor": 2
}
