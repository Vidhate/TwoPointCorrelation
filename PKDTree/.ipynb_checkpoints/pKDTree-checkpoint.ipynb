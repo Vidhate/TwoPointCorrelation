{
 "cells": [
  {
   "cell_type": "code",
   "execution_count": 2,
   "metadata": {},
   "outputs": [],
   "source": [
    "import numpy as np\n",
    "import sklearn.neighbors as sk\n",
    "import scipy.spatial as sp\n",
    "import pickle\n",
    "import time\n",
    "import sys\n",
    "#sys.path.insert(0,\"./Path/To/periodic_Tree/Repository/Here\")"
   ]
  },
  {
   "cell_type": "code",
   "execution_count": 3,
   "metadata": {},
   "outputs": [],
   "source": [
    "#path=\"./../../../DLA Mock Catalogue/\"\n",
    "path=\"./../Data/\"\n",
    "names=[\"DLAhost_snap49_r1_b1 (copy).txt\",\"DLAhost_snap49_r1_b1alpha (copy).txt\",\"DLAhost_snap49_r1_b1T10 (copy).txt\"]\n",
    "boxsize=150.0\n",
    "numPart=1024.0  # Number of particles will be the cube of this number\n",
    "forceRes=(boxsize/numPart)/30  # Force resolution to avoid diverging values is usually 1/30th mean-interparticle spacing\n",
    "maxLength=boxsize/4.0\n",
    "#The maximum length upto which bins should be split is 1/5th to 1/10th the size of the box for the following reasons:\n",
    "#- The boxes are periodic and any separation more than L/2 will require accessing other periodic boxes beyond the current one.\n",
    "#- Of the available perturbation modes in the box, the K_min(biggest wavelength)= 2*pi/boxlength. There are modes below this but they are constrained by the size of the simulation box. Hence, another maxlength cutoff on length greater than K_min ~ L/(5 to 10)\n",
    "#Being very flexible with this, I take the factor 4 for this run.\n",
    "minLength=10.0*forceRes\n",
    "eps=1.0     # need eps (epsilon) to avoid 0/0 ratio computations\n",
    "periodicity_scale=boxsize/2.0    # Scale at which periodicity has to be maintained"
   ]
  },
  {
   "cell_type": "code",
   "execution_count": 4,
   "metadata": {},
   "outputs": [],
   "source": [
    "def createBins(dR=2.0,mode='log',numOfBins=30):\n",
    "    bins=[]\n",
    "    if(mode!='log' and mode!='lin'):\n",
    "        print(\"Issue with binning mode\")\n",
    "        exit()\n",
    "        \n",
    "    if(mode=='lin'):\n",
    "        nBins=int(maxLength/dR)\n",
    "        bins.append(np.arange(minLength,maxLength,dR))\n",
    "        bins=bins[:-1]    # erasing the last entry because screwed up in cpp computation. Also unimportant because result=0.\n",
    "    else:\n",
    "        limit=np.log10(maxLength/minLength)\n",
    "        marks=np.linspace(0.0,limit,numOfBins)\n",
    "        bins=minLength*(np.power(10,marks))\n",
    "    return bins"
   ]
  },
  {
   "cell_type": "code",
   "execution_count": 4,
   "metadata": {},
   "outputs": [],
   "source": [
    "#This function takes input of positions and returns output of image values added around the position\n",
    "#till the scale specified for periodic calculations\n",
    "def periodise(pos,scale):\n",
    "    scale=periodicity_scale\n",
    "    x_left, x_right, y_up, y_down, z_out, z_in=[],[],[],[],[],[]\n",
    "    pos=np.array(pos)\n",
    "    for p in pos:\n",
    "        if p[0]<=scale:\n",
    "            x_right.append(np.array(p)+np.array([boxsize,0.0,0.0]))\n",
    "        if p[0]>=(boxsize-scale):\n",
    "            x_left.append(np.array(p)+np.array([-1.0*boxsize,0.0,0.0]))\n",
    "\n",
    "    x_right=np.array(x_right)\n",
    "    x_left=np.array(x_left)\n",
    "    pos=np.concatenate((pos,x_left,x_right))\n",
    "    \n",
    "    for p in pos:\n",
    "        if p[1]<=scale:\n",
    "            y_up.append(np.array(p)+np.array([0.0,boxsize,0.0]))\n",
    "        if p[1]>=(boxsize-scale):\n",
    "            y_down.append(np.array(p)+np.array([0.0,-1.0*boxsize,0.0]))\n",
    "    \n",
    "    y_up=np.array(y_up)\n",
    "    y_down=np.array(y_down)\n",
    "    pos=np.concatenate((pos,y_up,y_down))\n",
    "    \n",
    "    for p in pos:\n",
    "        if p[2]<=scale:\n",
    "            z_out.append(np.array(p)+np.array([0.0,0.0,boxsize]))\n",
    "        if p[2]>=(boxsize-scale):\n",
    "            z_in.append(np.array(p)+np.array([0.0,0.0,-1.0*boxsize]))\n",
    "            \n",
    "    z_in=np.array(z_in)\n",
    "    z_out=np.array(z_out)\n",
    "    pos=np.concatenate((pos,z_out,z_in))\n",
    "    \n",
    "    return pos"
   ]
  },
  {
   "cell_type": "code",
   "execution_count": 5,
   "metadata": {},
   "outputs": [],
   "source": [
    "# Periodic correlations using github.com/Vidhate/periodic_kdtree\n",
    "# Usage given inside in the readMe\n",
    "def periodicCorrPP(pos,bins):\n",
    "    scale=periodicity_scale\n",
    "    periodic_pos=periodise(pos,scale)\n",
    "    \n",
    "    T_orig=sp.cKDTree(pos)\n",
    "    T_full=sp.cKDTree(periodic_pos)\n",
    "    \n",
    "    pC=T_orig.count_neighbors(T_full,bins,cumulative=False)\n",
    "    pC=np.array(pC[1:])\n",
    "    return pC"
   ]
  },
  {
   "cell_type": "code",
   "execution_count": 6,
   "metadata": {},
   "outputs": [],
   "source": [
    "def periodicCorrelation(pos,rpos,dR=2.0):\n",
    "    bins=createBins(mode=\"log\",numOfBins=30)\n",
    "    print(\"Bins created successfully\")\n",
    "#    rpos=np.random.rand(len(pos),3)*boxsize\n",
    "    print(\"Random points generated successfully\")\n",
    "    start=time.time()\n",
    "    print(\"Starting pair counts using Periodic KDTRee\")\n",
    "    \n",
    "    n_rr=np.array(periodicCorrPP(rpos,bins),dtype='double')+eps\n",
    "    n_dd=np.array(periodicCorrPP(pos,bins),dtype='double')+eps\n",
    "    centeredBins=bins[:-1]*0.5+bins[1:]*0.5\n",
    "    correlationValue_pKDT=(n_dd/n_rr)-1.0\n",
    "    \n",
    "    end=time.time()\n",
    "    print(\"Computed 2pt Correlation using PKDTree in \"+str(end-start)+\" seconds\")\n",
    "\n",
    "    return centeredBins,correlationValue_pKDT"
   ]
  },
  {
   "cell_type": "code",
   "execution_count": 7,
   "metadata": {},
   "outputs": [],
   "source": [
    "# Reference : https://stackoverflow.com/questions/6159900/correct-way-to-write-line-to-file\n",
    "def writeFile(bins,corrs,index):\n",
    "    outname=\"PKDTree \"+names[index]\n",
    "    with open(outname,'w') as o:\n",
    "        o.write(\"# PKDTree 2 point correlation for input file:\"+names[index]+\"\\n\")\n",
    "        o.write(\"# Separation[R]     Correlation Value[Xi(R)]\\n\")\n",
    "        for b,c in zip(bins,corrs):\n",
    "            o.write(str(b)+\" \"+str(c)+\"\\n\")\n",
    "    print(\"Written to file\")\n",
    "    print(\"\\n\")"
   ]
  },
  {
   "cell_type": "code",
   "execution_count": 9,
   "metadata": {},
   "outputs": [
    {
     "name": "stdout",
     "output_type": "stream",
     "text": [
      "Bins created successfully\n",
      "Random points generated successfully\n",
      "Starting pair counts using Periodic KDTRee\n",
      "Computed 2pt Correlation using PKDTree in 1.060248613357544 seconds\n",
      "Written to file\n",
      "\n",
      "\n",
      "Bins created successfully\n",
      "Random points generated successfully\n",
      "Starting pair counts using Periodic KDTRee\n",
      "Computed 2pt Correlation using PKDTree in 0.24292635917663574 seconds\n",
      "Written to file\n",
      "\n",
      "\n",
      "Bins created successfully\n",
      "Random points generated successfully\n",
      "Starting pair counts using Periodic KDTRee\n",
      "Computed 2pt Correlation using PKDTree in 2.731919288635254 seconds\n",
      "Written to file\n",
      "\n",
      "\n"
     ]
    }
   ],
   "source": [
    "for i in range(0,len(names)):\n",
    "    fname=path+names[i]+\"_pickled\"\n",
    "    pos=pickle.load(open(fname,'rb'))\n",
    "    rpos=pickle.load(open(path+\"RANDOM \"+names[i]+\"_pickled\",'rb'))\n",
    "    b,c=periodicCorrelation(pos,rpos)\n",
    "#    b,c=periodicCorrelation(pos)\n",
    "    writeFile(b,c,i)"
   ]
  },
  {
   "cell_type": "code",
   "execution_count": null,
   "metadata": {},
   "outputs": [],
   "source": []
  }
 ],
 "metadata": {
  "kernelspec": {
   "display_name": "Python 3",
   "language": "python",
   "name": "python3"
  },
  "language_info": {
   "codemirror_mode": {
    "name": "ipython",
    "version": 3
   },
   "file_extension": ".py",
   "mimetype": "text/x-python",
   "name": "python",
   "nbconvert_exporter": "python",
   "pygments_lexer": "ipython3",
   "version": "3.7.1"
  }
 },
 "nbformat": 4,
 "nbformat_minor": 2
}
