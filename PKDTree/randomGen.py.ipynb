{
 "cells": [
  {
   "cell_type": "code",
   "execution_count": 2,
   "metadata": {},
   "outputs": [],
   "source": [
    "import numpy as np\n",
    "import pickle\n",
    "\n",
    "path=\"./../Data/\"\n",
    "fileNames=[\"DLAhost_snap49_r1_b1 (copy).txt\",\"DLAhost_snap49_r1_b1alpha (copy).txt\",\"DLAhost_snap49_r1_b1T10 (copy).txt\"]\n",
    "boxsize=150.0"
   ]
  },
  {
   "cell_type": "code",
   "execution_count": 17,
   "metadata": {},
   "outputs": [],
   "source": [
    "def writeFile(data,fname):\n",
    "    with open(fname,'w') as f:\n",
    "        f.write(\"# Random positions generated for dataset\\n\")\n",
    "        f.write(\"# x y z\\n\")\n",
    "        for p in data:\n",
    "            f.write(\"0 \"+str(p[0])+\" \"+str(p[1])+\" \"+str(p[2])+\"\\n\")\n",
    "    print(\"Written to file\")"
   ]
  },
  {
   "cell_type": "code",
   "execution_count": 18,
   "metadata": {},
   "outputs": [
    {
     "name": "stdout",
     "output_type": "stream",
     "text": [
      "Written to file\n",
      "Written to file\n",
      "Written to file\n"
     ]
    }
   ],
   "source": [
    "for f in fileNames:\n",
    "    fname=path+f+\"_pickled\"\n",
    "    pos=pickle.load(open(fname,'rb'))\n",
    "    rpos=np.random.rand(len(pos),3)*boxsize\n",
    "    pickle.dump(rpos,open(path+\"RANDOM \"+f+\"_pickled\",'wb'))\n",
    "    writeFile(rpos,path+\"RANDOM \"+f)"
   ]
  },
  {
   "cell_type": "code",
   "execution_count": null,
   "metadata": {},
   "outputs": [],
   "source": []
  }
 ],
 "metadata": {
  "kernelspec": {
   "display_name": "Python 3",
   "language": "python",
   "name": "python3"
  },
  "language_info": {
   "codemirror_mode": {
    "name": "ipython",
    "version": 3
   },
   "file_extension": ".py",
   "mimetype": "text/x-python",
   "name": "python",
   "nbconvert_exporter": "python",
   "pygments_lexer": "ipython3",
   "version": "3.7.1"
  }
 },
 "nbformat": 4,
 "nbformat_minor": 2
}
