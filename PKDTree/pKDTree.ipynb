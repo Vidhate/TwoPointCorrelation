{
 "cells": [
  {
   "cell_type": "code",
   "execution_count": 5,
   "metadata": {},
   "outputs": [],
   "source": [
    "import numpy as np\n",
    "import sklearn.neighbors as sk\n",
    "import pickle\n",
    "import time\n",
    "import sys\n",
    "sys.path.insert(0,\"./../../periodic_kdtree/\")\n",
    "from periodic_kdtree import PeriodicCKDTree"
   ]
  },
  {
   "cell_type": "code",
   "execution_count": 6,
   "metadata": {},
   "outputs": [],
   "source": [
    "#path=\"./../../../DLA Mock Catalogue/\"\n",
    "path=\"./../Data/\"\n",
    "names=[\"DLAhost_snap49_r1_b1 (copy).txt\",\"DLAhost_snap49_r1_b1alpha (copy).txt\",\"DLAhost_snap49_r1_b1T10 (copy).txt\"]\n",
    "boxsize=150.0\n",
    "numPart=1024.0  # Number of particles will be the cube of this number\n",
    "forceRes=(boxsize/numPart)/30  # Force resolution to avoid diverging values is usually 1/30th mean-interparticle spacing\n",
    "maxLength=boxsize/4.0\n",
    "#The maximum length upto which bins should be split is 1/5th to 1/10th the size of the box for the following reasons:\n",
    "#- The boxes are periodic and any separation more than L/2 will require accessing other periodic boxes beyond the current one.\n",
    "#- Of the available perturbation modes in the box, the K_min(biggest wavelength)= 2*pi/boxlength. There are modes below this but they are constrained by the size of the simulation box. Hence, another maxlength cutoff on length greater than K_min ~ L/(5 to 10)\n",
    "#Being very flexible with this, I take the factor 4 for this run.\n",
    "minLength=10.0*forceRes\n",
    "eps=1.0     # need eps (epsilon) to avoid 0/0 ratio computations"
   ]
  },
  {
   "cell_type": "code",
   "execution_count": 7,
   "metadata": {},
   "outputs": [],
   "source": [
    "def createBins(dR=2.0,mode='log',numOfBins=30):\n",
    "    bins=[]\n",
    "    if(mode!='log' and mode!='lin'):\n",
    "        print(\"Issue with binning mode\")\n",
    "        exit()\n",
    "        \n",
    "    if(mode=='lin'):\n",
    "        nBins=int(maxLength/dR)\n",
    "        bins.append(np.arange(minLength,maxLength,dR))\n",
    "        bins=bins[:-1]    # erasing the last entry because screwed up in cpp computation. Also unimportant because result=0.\n",
    "    else:\n",
    "        limit=np.log10(maxLength/minLength)\n",
    "        marks=np.linspace(0.0,limit,numOfBins)\n",
    "        bins=minLength*(np.power(10,marks))\n",
    "    return bins"
   ]
  },
  {
   "cell_type": "code",
   "execution_count": 8,
   "metadata": {},
   "outputs": [],
   "source": [
    "# Periodic correlations using github.com/Vidhate/periodic_kdtree\n",
    "# Usage given inside in the readMe\n",
    "def periodicCorrPP(pos,bins):\n",
    "    bounds=np.array([boxsize,boxsize,boxsize])\n",
    "    T=PeriodicCKDTree(bounds,pos)\n",
    "    c=[]\n",
    "    for b in bins[0:]:\n",
    "        count=0\n",
    "        for x in pos:\n",
    "            neighbors=T.query_ball_point(x,b)\n",
    "            count+=len(neighbors)\n",
    "        c.append(count)\n",
    "    c=np.array(c)\n",
    "    return (c[1:]-c[:-1])"
   ]
  },
  {
   "cell_type": "code",
   "execution_count": 12,
   "metadata": {},
   "outputs": [],
   "source": [
    "def periodicCorrelation(pos,dR=2.0):\n",
    "    bins=createBins(mode=\"log\",numOfBins=30)\n",
    "    print(\"Bins created successfully\")\n",
    "    rpos=np.random.rand(len(pos),3)*boxsize\n",
    "    print(\"Random points generated successfully\")\n",
    "    start=time.time()\n",
    "    print(\"Starting pair counts using Periodic KDTRee\")\n",
    "    n_rr=np.array(periodicCorrPP(rpos,bins),dtype='double')+eps\n",
    "    n_dd=np.array(periodicCorrPP(pos,bins),dtype='double')+eps\n",
    "    centeredBins=bins[:-1]*0.5+bins[1:]*0.5\n",
    "    correlationValue_pKDT=(n_dd/n_rr)-1.0\n",
    "    \n",
    "    end=time.time()\n",
    "    print(\"Computed 2pt Correlation using PKDTree in \"+str(end-start)+\" seconds\")\n",
    "\n",
    "    return centeredBins,correlationValue_pKDT"
   ]
  },
  {
   "cell_type": "code",
   "execution_count": 10,
   "metadata": {},
   "outputs": [],
   "source": [
    "# Reference : https://stackoverflow.com/questions/6159900/correct-way-to-write-line-to-file\n",
    "def writeFile(bins,corrs,index):\n",
    "    outname=\"PKDTree \"+names[index]\n",
    "    with open(outname,'w') as o:\n",
    "        o.write(\"# PKDTree 2 point correlation for input file:\"+names[index]+\"\\n\")\n",
    "        o.write(\"# Separation[R]     Correlation Value[Xi(R)]\\n\")\n",
    "        for b,c in zip(bins,corrs):\n",
    "            o.write(str(b)+\" \"+str(c)+\"\\n\")\n",
    "    print(\"Written to file\")\n",
    "    print(\"\\n\")"
   ]
  },
  {
   "cell_type": "code",
   "execution_count": 11,
   "metadata": {},
   "outputs": [
    {
     "name": "stdout",
     "output_type": "stream",
     "text": [
      "Bins created successfully\n",
      "Random points generated successfully\n",
      "Starting pair counts using Periodic KDTRee\n",
      "Computed 2pt Correlation using KDTree in 27.033302545547485 seconds\n",
      "Written to file\n",
      "\n",
      "\n",
      "Bins created successfully\n",
      "Random points generated successfully\n",
      "Starting pair counts using Periodic KDTRee\n",
      "Computed 2pt Correlation using KDTree in 7.07572078704834 seconds\n",
      "Written to file\n",
      "\n",
      "\n",
      "Bins created successfully\n",
      "Random points generated successfully\n",
      "Starting pair counts using Periodic KDTRee\n",
      "Computed 2pt Correlation using KDTree in 59.016371726989746 seconds\n",
      "Written to file\n",
      "\n",
      "\n"
     ]
    }
   ],
   "source": [
    "for i in range(0,len(names)):\n",
    "    fname=path+names[i]+\"_pickled\"\n",
    "    pos=pickle.load(open(fname,'rb'))\n",
    "    b,c=periodicCorrelation(pos)\n",
    "    writeFile(b,c,i)"
   ]
  },
  {
   "cell_type": "code",
   "execution_count": null,
   "metadata": {},
   "outputs": [],
   "source": []
  }
 ],
 "metadata": {
  "kernelspec": {
   "display_name": "Python 3",
   "language": "python",
   "name": "python3"
  },
  "language_info": {
   "codemirror_mode": {
    "name": "ipython",
    "version": 3
   },
   "file_extension": ".py",
   "mimetype": "text/x-python",
   "name": "python",
   "nbconvert_exporter": "python",
   "pygments_lexer": "ipython3",
   "version": "3.7.1"
  }
 },
 "nbformat": 4,
 "nbformat_minor": 2
}
