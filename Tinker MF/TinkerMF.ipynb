{
 "cells": [
  {
   "cell_type": "code",
   "execution_count": 13,
   "metadata": {},
   "outputs": [],
   "source": [
    "import numpy as np\n",
    "import matplotlib.pyplot as plt\n",
    "\n",
    "M_sun=1.989e+30  # M_sun in kg\n",
    "Mega_parsec=3.086e+22  # parsec in metres\n",
    "z=0         # Redshift specification\n",
    "\n",
    "Delta=200.0   # Overdensity definition = Delta X background\n",
    "\n",
    "# WMAP1 Cosmology\n",
    "omega_m=0.270062   # Density parameter for matter in the Universe WMAP1 Cosmology (Niladri's=0.276)\n",
    "h=0.72  # 100h km /s MPc is Hubble constant today WMAP1 Cosmology (Niladri's=0.7)\n",
    "\n",
    "rho_cr=((3*np.power((100*h),2))/(8*np.pi*6.673e-11))*((Mega_parsec/h**3)*1e+6/(M_sun/h))\n",
    "# critical density of the Universe today 3H^2/8Pi*G in units M_sun.h^-1/(MPc.h^-1)^3\n",
    "rho_m=omega_m*rho_cr*((1+z)**3)  # where a=1/(1+z)   Units same as rho_cr\n",
    "\n",
    "M_min=2.6765e+11  # Units of Msun/h\n",
    "M_max=6.0536e+11  # Units of Msun/h\n",
    "\n",
    "eps=1e-10"
   ]
  },
  {
   "cell_type": "code",
   "execution_count": 14,
   "metadata": {},
   "outputs": [],
   "source": [
    "# Input data : Normalised Power spectrum\n",
    "#PS=np.loadtxt(\"./../Data/power_spectrum_camb_su1024_cosmology.txt\")\n",
    "PS=np.loadtxt(\"./../Normalize PS/NormalizedDimensionlessPS.txt\")"
   ]
  },
  {
   "cell_type": "code",
   "execution_count": 15,
   "metadata": {},
   "outputs": [],
   "source": [
    "# Smoothing window functions Fourier Transformed in k-space\n",
    "def TopHat(k,R):\n",
    "    return (3/np.power(k*R,3))*(np.sin(k*R)-(k*R)*np.cos(k*R))\n",
    "\n",
    "def Gaussian(k,R):\n",
    "    return np.exp(np.power((k*R),2)/-2.0)"
   ]
  },
  {
   "cell_type": "code",
   "execution_count": 16,
   "metadata": {},
   "outputs": [],
   "source": [
    "# The smoothing scale R as a function of M. M to be passed in units M_sun/h. R returned will be in MPc/h \n",
    "# k is in units h/MPc, therefore kR will be unitless in the smoothening window\n",
    "const1=np.cbrt(3.0/(4*np.pi*rho_m))\n",
    "def R(M):\n",
    "    return const1*np.cbrt(M)"
   ]
  },
  {
   "cell_type": "code",
   "execution_count": 17,
   "metadata": {},
   "outputs": [],
   "source": [
    "# The rms variance of the linear density field smoothed on scale R(M)\n",
    "# Requires inputs on mass of halo in M_sun (to define R(M)) and the smoothing window type\n",
    "# Fourier modes 'k' are interpreted from the Power Spectrum by default.\n",
    "\n",
    "def sigma(M,W=\"TopHat\",kmin=-1.0,kmax=-1.0):\n",
    "    kbins=[]\n",
    "    if (kmin==-1 and kmax>=0) or (kmin>=0 and kmax==-1):\n",
    "        print(\"Limits to the modes 'k' not set properly\")\n",
    "        exit()\n",
    "    if kmin==-1 and kmax==-1:\n",
    "        kbins=PS[:,0]\n",
    "\n",
    "    r=R(M)\n",
    "    window=[]\n",
    "    \n",
    "    if(W==\"TopHat\"):\n",
    "        for i in range(0,len(kbins)):\n",
    "            window.append(TopHat(kbins[i],r))\n",
    "    if(W==\"Gaussian\"):\n",
    "        for i in range(0,len(kbins)):\n",
    "            window.append(Gaussian(kbins[i],r))\n",
    "    \n",
    "    kbins=np.log(kbins)\n",
    "    ps=np.array(PS[:,1])*2*(np.pi**2)\n",
    "    ps=ps/np.power(kbins,3)\n",
    "    \n",
    "    function=np.array(ps)*np.power(np.array(window),2)*np.power(kbins,3)\n",
    "#    result=np.sum((np.log(kbins[1:])-np.log(kbins[:-1]))*(function[1:]+function[:-1])/2.0)\n",
    "    result=np.trapz(function,kbins)\n",
    "    return result"
   ]
  },
  {
   "cell_type": "code",
   "execution_count": 18,
   "metadata": {},
   "outputs": [
    {
     "data": {
      "image/png": "[encoded data removed]",
      "text/plain": [
       "<Figure size 432x288 with 1 Axes>"
      ]
     },
     "metadata": {
      "needs_background": "light"
     },
     "output_type": "display_data"
    }
   ],
   "source": [
    "Mb=np.linspace(M_min,M_max,1000)\n",
    "s=[]\n",
    "for i in range(0,len(Mb)):\n",
    "    s.append(sigma(Mb[i],W=\"Gaussian\"))\n",
    "\n",
    "plt.scatter(Mb,s)\n",
    "plt.xscale(\"log\")\n",
    "plt.yscale(\"log\")\n",
    "plt.show()"
   ]
  },
  {
   "cell_type": "code",
   "execution_count": 19,
   "metadata": {},
   "outputs": [],
   "source": [
    "# Parameters according to those given in the Tinker2008 paper [https://arxiv.org/pdf/0803.2706.pdf]\n",
    "params=np.loadtxt(\"./param.txt\")\n",
    "d=np.where(params[:,0]==Delta)\n",
    "A=float(params[d,1])*np.power((1+z),-0.14)\n",
    "a=float(params[d,2])*np.power((1+z),-0.06)\n",
    "alpha=np.exp(-1.0*np.power((0.75/np.log(Delta/75)),1.2))    # required for Redshift evolution of parameter 'b'\n",
    "b=float(params[d,3])*np.power((1+z),-1.0*alpha)\n",
    "c=float(params[d,4])\n"
   ]
  },
  {
   "cell_type": "code",
   "execution_count": 20,
   "metadata": {},
   "outputs": [],
   "source": [
    "# This function finds the Tinker Universal fit for the Halo Mass function f(sigma)\n",
    "# It uses the Tinker parameters and argument is M in units M_sun\n",
    "\n",
    "def f(M):\n",
    "    s=sigma(M,W=\"Gaussian\")\n",
    "    term0=s/b\n",
    "    term1=1.0+np.power(term0,-1.0*a)\n",
    "    term2=A*term1*np.exp(-1.0*c/(s**2))\n",
    "    return term2"
   ]
  },
  {
   "cell_type": "code",
   "execution_count": 21,
   "metadata": {},
   "outputs": [],
   "source": [
    "# This function returns the Tinker mass function dn/dm.\n",
    "# 30 bins are created by defualt between M_min and M_max as defined in the preamble above unless specified otherwise\n",
    "# Returns an array of number of Halos populating each mass bin\n",
    "#\n",
    "def TMF(numOfBins=30,M_lower=-1,M_upper=-1):\n",
    "    massBins=[]\n",
    "    if(M_lower==-1 and M_upper>=0) or (M_lower>=0 and M_upper==-1):\n",
    "        print(\"Invalid upper or lower limit on the mass of halos\")\n",
    "        exit()\n",
    "    if(M_lower==-1 and M_upper==-1):\n",
    "        last=np.log(M_max/M_min)\n",
    "        massBins=M_min*np.exp(np.linspace(0.0,last,numOfBins))\n",
    "        massBins_lin=np.linspace(M_min,M_max,numOfBins)\n",
    "    else:\n",
    "        last=np.log(M_upper/M_lower)\n",
    "        massBins=M_lower*np.exp(np.linspace(0.0,last,numOfBins))\n",
    "        massBins_lin=np.linspace(M_lower,M_upper,numOfBins)\n",
    "        \n",
    "    dM=massBins[1:]-massBins[:-1]   # dM\n",
    "    dlnM=np.log(massBins[1:])-np.log(massBins[:-1])\n",
    "    M_mid=(massBins[1:]+massBins[:-1])/2.0\n",
    "    \n",
    "    sig,f_sig=[],[]\n",
    "    sig_lin=[]\n",
    "    for i in range(0,len(massBins)):\n",
    "        sig.append(sigma(massBins[i],W=\"Gaussian\"))\n",
    "        sig_lin.append(sigma(massBins_lin[i],W=\"Gaussian\"))\n",
    "        \n",
    "    sig=np.array(sig)\n",
    "    sig_lin=np.array(sig_lin)\n",
    "    \n",
    "    sig=-1.0*np.log(sig)\n",
    "    dln_siginv=sig[1:]-sig[:-1]   # dln(sigma^-1)\n",
    "    \n",
    "    for i in range(0,len(M_mid)):\n",
    "        f_sig.append(f(M_mid[i]))   # f(sigma)\n",
    "    f_sig=np.array(f_sig)    # f reduces to negligible values too soon\n",
    "    \n",
    "    term1=f_sig\n",
    "    term2=rho_m/(M_mid**2)\n",
    "    term3=dln_siginv/dlnM\n",
    "    result=(term1*term2*term3)\n",
    "    return result,M_mid"
   ]
  },
  {
   "cell_type": "code",
   "execution_count": 22,
   "metadata": {},
   "outputs": [],
   "source": [
    "# Plotting and comparing with Tinker MF Graph in the paper\n",
    "M_lower=1e+10\n",
    "M_upper=1e+16\n",
    "nOB=100\n",
    "res,m_mid=TMF(nOB,M_lower,M_upper)"
   ]
  },
  {
   "cell_type": "code",
   "execution_count": 23,
   "metadata": {},
   "outputs": [
    {
     "data": {
      "image/png": "[encoded data removed]",
      "text/plain": [
       "<Figure size 700x700 with 1 Axes>"
      ]
     },
     "metadata": {},
     "output_type": "display_data"
    }
   ],
   "source": [
    "y=np.log10((m_mid**2/rho_m)*res)\n",
    "x=np.log10(m_mid)\n",
    "plt.figure(figsize=(3.5,3.5), dpi=200, facecolor='w', edgecolor='k')\n",
    "plt.plot(x,y,markersize=1)\n",
    "plt.ylim([-3.5,-0.5])\n",
    "plt.xlim([10,16])\n",
    "plt.show()"
   ]
  },
  {
   "cell_type": "code",
   "execution_count": null,
   "metadata": {},
   "outputs": [],
   "source": []
  }
 ],
 "metadata": {
  "kernelspec": {
   "display_name": "Python 3",
   "language": "python",
   "name": "python3"
  },
  "language_info": {
   "codemirror_mode": {
    "name": "ipython",
    "version": 3
   },
   "file_extension": ".py",
   "mimetype": "text/x-python",
   "name": "python",
   "nbconvert_exporter": "python",
   "pygments_lexer": "ipython3",
   "version": "3.7.1"
  }
 },
 "nbformat": 4,
 "nbformat_minor": 2
}
