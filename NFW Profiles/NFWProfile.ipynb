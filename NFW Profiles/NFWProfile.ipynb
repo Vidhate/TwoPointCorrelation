{
 "cells": [
  {
   "cell_type": "markdown",
   "metadata": {},
   "source": [
    "<h1>NFW internal Halo Profiles</h1>\n",
    "This notebook contains code to output the halo profiles of the given mass and redshift at the given scale in fourier space."
   ]
  },
  {
   "cell_type": "code",
   "execution_count": 1,
   "metadata": {},
   "outputs": [],
   "source": [
    "import numpy as np\n",
    "import matplotlib.pyplot as plt"
   ]
  },
  {
   "cell_type": "markdown",
   "metadata": {},
   "source": [
    "<h2>Setting up WMAP1 Cosmology parameters below</h2>\n",
    "Source: <a href='https://arxiv.org/pdf/astro-ph/0302209.pdf'>arXiv paper</a> on <i>First Year Wilkinson Microwave Anisotropy Probe (WMAP) Observations:Determination of Cosmological Parameters</i> by Spergel et. al."
   ]
  },
  {
   "cell_type": "code",
   "execution_count": 2,
   "metadata": {},
   "outputs": [],
   "source": [
    "z=0.0   # Redshift\n",
    "del_crit=1.69/(1.0+z)   # Critical overdensity for spherical collapse at given redshift\n",
    "\n",
    "omega_m=0.270062   # Density parameter for matter in the Universe WMAP1 Cosmology (Niladri's=0.276)\n",
    "h=0.72  # 100h km /s MPc is Hubble constant today WMAP1 Cosmology (Niladri's=0.7)\n",
    "\n",
    "M_sun=1.989e+30  # M_sun in kg\n",
    "Mega_parsec=3.086e+22  # parsec in metres\n",
    "\n",
    "rho_cr=((3*np.power((100*h),2))/(8*np.pi*6.673e-11))*(Mega_parsec*1e+6*h/(M_sun))\n",
    "# critical density of the Universe today 3H^2/8Pi*G in units M_sun.h^-1/MPc^3\n",
    "rho_m=omega_m*rho_cr*((1+z)**3)  # where a=1/(1+z)\n",
    "\n",
    "eps=1e-5   # To avoid divide by 0 and to set a cutoff limit for negligibly low values\n",
    "finesse=1000   # Defines the granularity in calculating Si and Ci integrals"
   ]
  },
  {
   "cell_type": "code",
   "execution_count": 3,
   "metadata": {},
   "outputs": [],
   "source": [
    "# This cell holds code to compute the variance for a given smoothening scale R defined by the mass passed as argument\n",
    "PS=np.loadtxt(\"./../Normalize PS/NormalizedDimensionlessPS.txt\")\n",
    "k=PS[:,0]\n",
    "ps=PS[:,1]  # ps=k^3*P/2*pi^2\n",
    "\n",
    "const1=np.cbrt(3.0/(4*np.pi*rho_m))\n",
    "\n",
    "# Smoothing window functions Fourier Transformed in k-space\n",
    "def TopHat(k,R):\n",
    "    return (3/np.power(k*R,3))*(np.sin(k*R)-(k*R)*np.cos(k*R))\n",
    "\n",
    "def variance(m):\n",
    "    R=const1*np.cbrt(m)\n",
    "    function=ps*(TopHat(k,R)**2)/k\n",
    "    result=np.trapz(function,k)\n",
    "    return result"
   ]
  },
  {
   "cell_type": "code",
   "execution_count": 4,
   "metadata": {},
   "outputs": [
    {
     "name": "stdout",
     "output_type": "stream",
     "text": [
      "51879205994.77365\n"
     ]
    },
    {
     "data": {
      "text/plain": [
       "51879205994.77365"
      ]
     },
     "execution_count": 4,
     "metadata": {},
     "output_type": "execute_result"
    }
   ],
   "source": [
    "# The characteristic mass scale at which Nu(m,z)=del_crit**2/variance(Mstar)**2=1\n",
    "# Goal is to find the mass for which when the variance(sigma^2) is calculated, it is equal to del_crit^2\n",
    "def Mstar():\n",
    "    Mlower=1e+10\n",
    "    Mupper=1e+16\n",
    "    Mst=-1\n",
    "    while True:\n",
    "        Mcheck=(Mupper+Mlower)/2.0\n",
    "        x=variance(Mcheck)-(del_crit**2)\n",
    "        if(0.0<=x<=eps):\n",
    "            Mst=Mcheck\n",
    "            break\n",
    "        if(x<0.0):\n",
    "            Mupper=Mcheck\n",
    "        if(x>eps):\n",
    "            Mlower=Mcheck\n",
    "    \n",
    "    print(Mst)\n",
    "    return Mst\n",
    "\n",
    "# Return the density at given scale k and mass of halo m for spherically symmetric profile truncated at virial radius\n",
    "# reference page 34 in Cooray & Sheth\n",
    "\n",
    "\n",
    "def Si(x):\n",
    "    t=np.linspace(0,x,1000)+eps\n",
    "    function=np.sin(t)/t\n",
    "    return np.trapz(function,t)\n",
    "\n",
    "# Possible fault regarding consideration of values of x\n",
    "def Ci(x):\n",
    "    limit=1/eps\n",
    "    t=np.linspace(x,limit+x,limit)\n",
    "#    t=np.linspace(x,limit*x,limit)\n",
    "    function=np.cos(t)/t\n",
    "    return -1.0*np.trapz(function,t)\n",
    "\n",
    "# need: rho_s,r_s\n",
    "def u_NFW(k,m):\n",
    "    c=(9/(1+z))*((m/Mstar())**-0.13)\n",
    "    \n",
    "    util1=k*r_s\n",
    "    util2=(1+c)*util1\n",
    "    \n",
    "    term1=4*np.pi*rho_s*r_s/m\n",
    "    term2=np.sin(util1)*(Si(util2)-Si(util1))\n",
    "    term3=-1.0*np.sin(c*util1)/util2\n",
    "    term4=np.cos(util1)*(Ci(util2)-Ci(util1))\n",
    "    \n",
    "    result=term1*(term2+term3+term4)\n",
    "    return result\n",
    "\n",
    "Mstar()"
   ]
  },
  {
   "cell_type": "code",
   "execution_count": null,
   "metadata": {},
   "outputs": [],
   "source": [
    "NFW_alpha=1.0\n",
    "NFW_beta=2.0\n",
    "\n",
    "# Returns density at given radius r and mass of halo m, from NFW Profile in Real Space - Rho(r|m)\n",
    "def NFW(r,m):\n",
    "    c_mean=(9/(1+z))*((m/m_star(z))**-0.13)\n",
    "    \n",
    "    term1=(r/r_s)\n",
    "    term2=(1+term1)**NFW_beta\n",
    "    term1=term1**NFW_alpha\n",
    "    result=rho_s/(term1*term2)\n",
    "    return result"
   ]
  },
  {
   "cell_type": "code",
   "execution_count": null,
   "metadata": {},
   "outputs": [],
   "source": [
    "# Return the density at given scale k and mass of halo m for spherically symmetric profile truncated at virial radius\n",
    "# reference page 34 in Cooray & Sheth\n",
    "\n",
    "eps=1e-5   # To avoid divide by 0 and to set a cutoff limit for negligibly low values\n",
    "finesse=1000   # Defines the number of\n",
    "\n",
    "def Si(x):\n",
    "    t=np.linspace(0,x,1000)+eps\n",
    "    function=np.sin(t)/t\n",
    "    return np.trapz(function,t)\n",
    "\n",
    "# Possible fault regarding consideration of values of x\n",
    "def Ci(x):\n",
    "    limit=1/eps\n",
    "    t=np.linspace(x,limit+x,limit)\n",
    "#    t=np.linspace(x,limit*x,limit)\n",
    "    function=np.cos(t)/t\n",
    "    return -1.0*np.trapz(function,t)\n",
    "\n",
    "# need: rho_s,r_s,m_star(z)\n",
    "def u_NFW(k,m):\n",
    "    c=(9/(1+z))*((m/m_star(z))**-0.13)\n",
    "    \n",
    "    util1=k*r_s\n",
    "    util2=(1+c)*util1\n",
    "    \n",
    "    term1=4*np.pi*rho_s*r_s/m\n",
    "    term2=np.sin(util1)*(Si(util2)-Si(util1))\n",
    "    term3=-1.0*np.sin(c*util1)/util2\n",
    "    term4=np.cos(util1)*(Ci(util2)-Ci(util1))\n",
    "    \n",
    "    result=term1*(term2+term3+term4)\n",
    "    return result"
   ]
  },
  {
   "cell_type": "code",
   "execution_count": null,
   "metadata": {},
   "outputs": [],
   "source": []
  }
 ],
 "metadata": {
  "kernelspec": {
   "display_name": "Python 3",
   "language": "python",
   "name": "python3"
  },
  "language_info": {
   "codemirror_mode": {
    "name": "ipython",
    "version": 3
   },
   "file_extension": ".py",
   "mimetype": "text/x-python",
   "name": "python",
   "nbconvert_exporter": "python",
   "pygments_lexer": "ipython3",
   "version": "3.7.1"
  }
 },
 "nbformat": 4,
 "nbformat_minor": 2
}
