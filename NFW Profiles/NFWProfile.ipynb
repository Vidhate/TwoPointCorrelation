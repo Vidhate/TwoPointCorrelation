{
 "cells": [
  {
   "cell_type": "markdown",
   "metadata": {},
   "source": [
    "<h1>NFW internal Halo Profiles</h1>\n",
    "This notebook contains code to output the halo profiles of the given mass and redshift at the given scale in fourier space."
   ]
  },
  {
   "cell_type": "code",
   "execution_count": 59,
   "metadata": {},
   "outputs": [],
   "source": [
    "import numpy as np\n",
    "import matplotlib.pyplot as plt\n",
    "from scipy import integrate"
   ]
  },
  {
   "cell_type": "markdown",
   "metadata": {},
   "source": [
    "<h2>Setting up WMAP1 Cosmology parameters below</h2>\n",
    "Source: <a href='https://arxiv.org/pdf/astro-ph/0302209.pdf'>arXiv paper</a> on <i>First Year Wilkinson Microwave Anisotropy Probe (WMAP) Observations:Determination of Cosmological Parameters</i> by Spergel et. al."
   ]
  },
  {
   "cell_type": "code",
   "execution_count": 51,
   "metadata": {},
   "outputs": [],
   "source": [
    "z=0.0   # Redshift\n",
    "del_crit=1.69/(1.0+z)   # Critical overdensity for spherical collapse at given redshift (from linear theory) for EdS Universe\n",
    "## for a more detailed description of calculating del_crit and its evolution with redshift for a LCDM Universe, check arXiv:0011295\n",
    "\n",
    "#'''\n",
    "#WMAP1 Cosmology (Tinker uses this for MF paper)\n",
    "omega_m=0.270062   # Density parameter for matter in the Universe WMAP1 Cosmology (Niladri's=0.276)\n",
    "h=0.72  # 100h km /s MPc is Hubble constant today WMAP1 Cosmology (Niladri's=0.7)\n",
    "#'''\n",
    "\n",
    "'''\n",
    "#Niladri's cosmology\n",
    "omega_m=0.276\n",
    "h=0.7\n",
    "'''\n",
    "\n",
    "M_sun=1.989e+30  # M_sun in kg\n",
    "Mega_parsec=3.086e+22  # Mega parsec in metres\n",
    "\n",
    "rho_cr=((3*np.power((100*h),2))/(8*np.pi*6.673e-11))*(Mega_parsec*1e+6*h/(M_sun))\n",
    "# critical density of the Universe today 3H^2/8Pi*G in units M_sun.h^-1/MPc^3\n",
    "rho_m=omega_m*rho_cr*((1+z)**3)  # where a=1/(1+z)\n",
    "\n",
    "eps=1e-5   # To avoid divide by 0 and to set a cutoff limit for negligibly low values\n",
    "finesse=1000   # Defines the granularity in calculating Si and Ci integrals"
   ]
  },
  {
   "cell_type": "code",
   "execution_count": 52,
   "metadata": {},
   "outputs": [],
   "source": [
    "# This cell holds code to compute the variance for a given smoothening scale R defined by the mass passed as argument\n",
    "# make sure the k's are log spaced in the source file for Power Spectrum\n",
    "PS=np.loadtxt(\"./../Normalize PS/NormalizedDimensionlessPS.txt\")\n",
    "k=PS[:,0]\n",
    "ps=PS[:,1]  # ps=k^3*P/2*pi^2\n",
    "\n",
    "const1=np.cbrt(3.0/(4*np.pi*rho_m))\n",
    "\n",
    "# Smoothing window functions Fourier Transformed in k-space\n",
    "def TopHat(k,R):\n",
    "    return (3/np.power(k*R,3))*(np.sin(k*R)-(k*R)*np.cos(k*R))\n",
    "\n",
    "def variance(m):\n",
    "    R=const1*np.cbrt(m)\n",
    "    function=ps*(TopHat(k,R)**2)\n",
    "    result=np.trapz(function,np.log(k))\n",
    "    return result"
   ]
  },
  {
   "cell_type": "code",
   "execution_count": 53,
   "metadata": {},
   "outputs": [
    {
     "data": {
      "text/plain": [
       "14.401714352049536"
      ]
     },
     "execution_count": 53,
     "metadata": {},
     "output_type": "execute_result"
    }
   ],
   "source": [
    "variance(1e+10)-del_crit**2"
   ]
  },
  {
   "cell_type": "code",
   "execution_count": 54,
   "metadata": {},
   "outputs": [
    {
     "data": {
      "text/plain": [
       "3477086960785.091"
      ]
     },
     "execution_count": 54,
     "metadata": {},
     "output_type": "execute_result"
    }
   ],
   "source": [
    "# M_star(z) is the characteristic mass scale at which Nu(m,z)=del_crit**2/variance(Mstar)**2=1\n",
    "# Goal is to find the mass at which variance(sigma^2) is equal to del_crit^2\n",
    "def Mstar():\n",
    "    Mlower=1e+10\n",
    "    Mupper=1e+16\n",
    "    Mst=-1\n",
    "    \n",
    "    limit=1e+10   # Upper threshold on number of iterations. If answer not found till then, the loop breaks\n",
    "    lim_cnt=0\n",
    "    \n",
    "    while True:\n",
    "        Mcheck=(Mupper+Mlower)/2.0\n",
    "        x=variance(Mcheck)-(del_crit**2)\n",
    "        if(0.0<=x<=eps):\n",
    "            Mst=Mcheck\n",
    "            break\n",
    "        if(x<0.0):\n",
    "            Mupper=Mcheck\n",
    "        if(x>eps):\n",
    "            Mlower=Mcheck\n",
    "        \n",
    "        if lim_cnt<=limit:\n",
    "            lim_cnt+=1\n",
    "        else:\n",
    "            print(\"Result not found by this method after \"+str(limit)+\" number of iterations\")\n",
    "            exit()\n",
    "            break\n",
    "            \n",
    "    return Mst\n",
    "\n",
    "Mstar()"
   ]
  },
  {
   "cell_type": "code",
   "execution_count": 79,
   "metadata": {},
   "outputs": [
    {
     "name": "stdout",
     "output_type": "stream",
     "text": [
      "0.09596196695112207\n",
      "0.848796743006126\n"
     ]
    },
    {
     "data": {
      "text/plain": [
       "-61.863274466532154"
      ]
     },
     "execution_count": 79,
     "metadata": {},
     "output_type": "execute_result"
    }
   ],
   "source": [
    "# Return the density at given scale k and mass of halo m for spherically symmetric profile truncated at virial radius\n",
    "# reference page 34 in Cooray & Sheth\n",
    "\n",
    "# Robust wrt to this\n",
    "f1=lambda x: np.sin(x)/x\n",
    "def Si(t):\n",
    "    result=integrate.quad(f1,0,t)\n",
    "    return result[0]\n",
    "\n",
    "# Possible fault regarding consideration of values of x\n",
    "########## Overly sensitive on the values of t\n",
    "f2=lambda x: -1.0*np.cos(x)/x\n",
    "def Ci(t):\n",
    "    result=integrate.quad(f2,t,np.inf)\n",
    "#    return result[0]\n",
    "    return 1.0\n",
    "\n",
    "# Returns the scale radius defined as Rs=R200/c ; where R200 is found from total mass of Halo and background density \n",
    "def Rs(M,c):\n",
    "    rho_200=200.0*rho_m\n",
    "    r200=np.cbrt(M*3.0/(4.0*np.pi*rho_200))\n",
    "    return r200/c\n",
    "\n",
    "# Returns rho_s given a concentration mass relation (defined in Cooray Sheth Page 32 bottom most for NFW & M99)\n",
    "def Rhos(M,r_s,c):\n",
    "    term1=4.0*np.pi*(r_s)**3\n",
    "    term2=np.log(1.0+c)-c/(1.0+c)\n",
    "    return M/(term1*term2)\n",
    "    \n",
    "# Returns NFW profile in K space\n",
    "m_st=Mstar()\n",
    "def u_NFW(k,m):\n",
    "    c=(9.0/(1.0+z))*((m/m_st)**-0.13)\n",
    "    r_s=Rs(m,c)\n",
    "    rho_s=Rhos(m,r_s,c)\n",
    "    \n",
    "    util1=k*r_s\n",
    "    util2=(1+c)*util1\n",
    "    \n",
    "    term1=4.0*np.pi*rho_s*r_s/m\n",
    "    term2=np.sin(util1)*(Si(util2)-Si(util1))\n",
    "    term3=-1.0*np.sin(c*util1)/util2\n",
    "    term4=np.cos(util1)*(Ci(util2)-Ci(util1))\n",
    "    print(util1)\n",
    "    print(util2)\n",
    "    \n",
    "    result=term1*(term2+term3+term4)\n",
    "    return result\n",
    "u_NFW(1.0,1.0e+13)"
   ]
  },
  {
   "cell_type": "code",
   "execution_count": 68,
   "metadata": {},
   "outputs": [
    {
     "data": {
      "text/plain": [
       "-4.264337504458664"
      ]
     },
     "execution_count": 68,
     "metadata": {},
     "output_type": "execute_result"
    }
   ],
   "source": [
    "f2=lambda x: -1.0*np.cos(x)/x\n",
    "def Ci(t):\n",
    "    result=integrate.quad(f2,t,np.inf)\n",
    "    return result[0]\n",
    "Ci(0.16)"
   ]
  },
  {
   "cell_type": "code",
   "execution_count": null,
   "metadata": {},
   "outputs": [],
   "source": []
  }
 ],
 "metadata": {
  "kernelspec": {
   "display_name": "Python 3",
   "language": "python",
   "name": "python3"
  },
  "language_info": {
   "codemirror_mode": {
    "name": "ipython",
    "version": 3
   },
   "file_extension": ".py",
   "mimetype": "text/x-python",
   "name": "python",
   "nbconvert_exporter": "python",
   "pygments_lexer": "ipython3",
   "version": "3.7.1"
  }
 },
 "nbformat": 4,
 "nbformat_minor": 2
}
