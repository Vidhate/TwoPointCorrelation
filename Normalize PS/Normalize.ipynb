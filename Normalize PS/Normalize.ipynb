{
 "cells": [
  {
   "cell_type": "markdown",
   "metadata": {},
   "source": [
    "<h3>The purpose of this code is to normalise the linear theory Power Spectrum(PS) found from the primordial power spectrum evolved using a Transfer Function(TF). </h3>\n",
    "<ul>\n",
    "<li>The TF is sourced from Niladri's dataset [source file address: ./../Data/Transfer_camb_su_1024.txt]<br>\n",
    "<li>Growth factor assumed is G(a) = a = 1/(1+z) | z=0 <br>\n",
    "<li>The Normalization is done by comparing the sigma_8 value to the current (z=0). <br>\n",
    "Sigma_8 is the variance in density perturbations smoothed over a scale of R=8 h^-1 MPc. <br>\n",
    "(Detailed reference to using Top-Hat/Gaussian filter can be seen from Cooray & Sheth page 10) <br>\n",
    "<li> Integration to be done using logarithmic spacing\n",
    "<li>Cosmology in consideration is as follows:\n",
    "omega_m = 0.276, omega_b = 0.045, h= 0.7, sigma_8 = 0.811, ns = 0.961 \n",
    "</ul>"
   ]
  },
  {
   "cell_type": "code",
   "execution_count": 138,
   "metadata": {},
   "outputs": [],
   "source": [
    "import numpy as np\n",
    "import matplotlib.pyplot as plt\n",
    "import pickle\n",
    "\n",
    "R=8  # MPc h^-1\n",
    "\n",
    "#File name that contains the transfer function\n",
    "fname=\"./../Data/cambTf_Om0.276_Ol0.724_Ob0.045_h0.700_ns0.961.txt\"\n",
    "#fname=\"./../Data/Transfer_tinker-2005.txt\"\n"
   ]
  },
  {
   "cell_type": "code",
   "execution_count": 139,
   "metadata": {},
   "outputs": [
    {
     "data": {
      "text/plain": [
       "'\\n# New Cosmology\\nsigma_8=\\nns=\\nh=\\n'"
      ]
     },
     "execution_count": 139,
     "metadata": {},
     "output_type": "execute_result"
    }
   ],
   "source": [
    "# Define the Cosmology here\n",
    "\n",
    "'''\n",
    "# WMAP1 Cosmology\n",
    "Om     0.270\n",
    "Ob     0.046\n",
    "OL     0.730\n",
    "sigma_8     0.90\n",
    "h           0.72\n",
    "ns          0.99\n",
    "'''\n",
    "\n",
    "#'''\n",
    "# Aseem's Cosmology\n",
    "sigma_8=0.811\n",
    "ns=0.961\n",
    "h=0.7\n",
    "Ob=0.045\n",
    "Om=0.276\n",
    "#'''\n",
    "\n",
    "'''\n",
    "# New Cosmology\n",
    "sigma_8=\n",
    "ns=\n",
    "h=\n",
    "'''"
   ]
  },
  {
   "cell_type": "code",
   "execution_count": 140,
   "metadata": {},
   "outputs": [],
   "source": [
    "# Defines the smoothening window functions\n",
    "def TopHat(k,R):\n",
    "    return (3/np.power(k*R,3))*(np.sin(k*R)-(k*R)*np.cos(k*R))\n",
    "\n",
    "def Gaussian(k,R):\n",
    "    return np.exp(np.power((k*R),2)/-2.0)"
   ]
  },
  {
   "cell_type": "code",
   "execution_count": 141,
   "metadata": {},
   "outputs": [],
   "source": [
    "# Loads transfer function data\n",
    "data=np.loadtxt(fname)\n",
    "k=np.array(data[:,0])\n",
    "fb=Ob/Om\n",
    "fcdm=1-fb\n",
    "T_k=np.array(fcdm*data[:,1]+fb*data[:,2])"
   ]
  },
  {
   "cell_type": "code",
   "execution_count": 142,
   "metadata": {},
   "outputs": [
    {
     "name": "stdout",
     "output_type": "stream",
     "text": [
      "9.206892565753295e-09\n",
      "2.81502386682076e-08\n"
     ]
    }
   ],
   "source": [
    "# Computation of the variance\n",
    "top=TopHat(k,R)\n",
    "gaus=Gaussian(k,R)\n",
    "\n",
    "res1=np.power(T_k,2)*(k**ns)   # Tf^2 x k^n\n",
    "res1=(k**3)*res1/(2*(np.pi**2))  # P(k)*k^3/2Pi^2 integrating with d(lnK)\n",
    "#res1=(k**2)*res1/(2*np.pi**2)  # integrating with dK\n",
    "res2=res1*(top**2)  # f1(k)=P(k)*K^3/2Pi^2 x W(kR)^2 (topHat)\n",
    "res3=res1*(gaus**2)  # f2(k)=\" \" \" \" \" \" W(kR)^2 (Gaussian)\n",
    "\n",
    "ansTop=np.trapz(res2,np.log(k))\n",
    "#ansTop=np.trapz(res2,k)\n",
    "ansGaus=np.trapz(res3,np.log(k))\n",
    "#ansGaus=np.trapz(res3,k)\n",
    "\n",
    "AT=(sigma_8**2)/ansTop   #### Problem of missing factor of 2(Pi)\n",
    "AG=(sigma_8**2)/ansGaus\n",
    "\n",
    "print(AT)\n",
    "print(AG)"
   ]
  },
  {
   "cell_type": "code",
   "execution_count": 143,
   "metadata": {},
   "outputs": [],
   "source": [
    "# Computing dimensionless powerspectrum\n",
    "P_k_T=AT*np.power(k,ns)*np.power(T_k,2)\n",
    "D_k_T=(np.power(k,3)*P_k_T)/(2*(np.pi**2))\n",
    "\n",
    "P_k_G=AG*np.power(k,ns)*np.power(T_k,2)\n",
    "D_k_G=(np.power(k,3)*P_k_G)/(2*(np.pi**2))"
   ]
  },
  {
   "cell_type": "code",
   "execution_count": 146,
   "metadata": {},
   "outputs": [],
   "source": [
    "k=np.array(k)\n",
    "D_k=np.array(D_k_T)\n",
    "dumpster=[k,D_k]\n",
    "pickle.dump(dumpster,open('NormalizedDimensionlessPS.p','wb'))\n",
    "with open('NormalizedDimensionlessPS.txt','w') as f:\n",
    "    f.write('# WMAP1 Cosmology normalised linear theory Power Spectrum (Dimensionless)\\n')\n",
    "    f.write('# k   D_k\\n')\n",
    "    for i in range(0,len(k)):\n",
    "        f.write(str(k[i])+\"\\t\\t\"+str(D_k[i])+\"\\n\")"
   ]
  },
  {
   "cell_type": "code",
   "execution_count": null,
   "metadata": {},
   "outputs": [],
   "source": []
  }
 ],
 "metadata": {
  "kernelspec": {
   "display_name": "Python 3",
   "language": "python",
   "name": "python3"
  },
  "language_info": {
   "codemirror_mode": {
    "name": "ipython",
    "version": 3
   },
   "file_extension": ".py",
   "mimetype": "text/x-python",
   "name": "python",
   "nbconvert_exporter": "python",
   "pygments_lexer": "ipython3",
   "version": "3.7.1"
  }
 },
 "nbformat": 4,
 "nbformat_minor": 2
}
