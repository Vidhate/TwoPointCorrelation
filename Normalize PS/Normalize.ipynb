{
 "cells": [
  {
   "cell_type": "markdown",
   "metadata": {},
   "source": [
    "<h3>The purpose of this code is to normalise the linear theory Power Spectrum(PS) found from the primordial power spectrum evolved using a Transfer Function(TF). </h3>\n",
    "<ul>\n",
    "<li>The TF is sourced from Niladri's dataset [source file address: ./../Data/Transfer_camb_su_1024.txt]<br>\n",
    "<li>Growth factor assumed is G(a) = a = 1/(1+z) | z=0 <br>\n",
    "<li>The Normalization is done by comparing the sigma_8 value to the current (z=0). <br>\n",
    "Sigma_8 is the variance in density perturbations smoothed over a scale of R=8 h^-1 MPc. <br>\n",
    "(Detailed reference to using Top-Hat/Gaussian filter can be seen from Cooray & Sheth page 10) <br>\n",
    "<li> Integration to be done using logarithmic spacing\n",
    "<li>Cosmology in consideration is defined in the 2nd cell\n",
    "<li> The Transfer Function is interpolated to more points to make th 2PC calculations later finer. for 50000 points, analytical 2PC works fine for R&lt;30MPc\n",
    "</ul>"
   ]
  },
  {
   "cell_type": "code",
   "execution_count": 1,
   "metadata": {},
   "outputs": [],
   "source": [
    "import numpy as np\n",
    "import matplotlib.pyplot as plt\n",
    "import pickle\n",
    "\n",
    "R=8  # MPc h^-1\n",
    "\n",
    "#File name that contains the transfer function\n",
    "fname=\"./../Data/cambTf_Om0.276_Ol0.724_Ob0.045_h0.700_ns0.961.txt\"\n",
    "#fname=\"./../Data/Transfer_tinker-2005.txt\"\n"
   ]
  },
  {
   "cell_type": "code",
   "execution_count": 2,
   "metadata": {},
   "outputs": [
    {
     "data": {
      "text/plain": [
       "'\\n# New Cosmology\\nsigma_8=\\nns=\\nh=\\n'"
      ]
     },
     "execution_count": 2,
     "metadata": {},
     "output_type": "execute_result"
    }
   ],
   "source": [
    "# Define the Cosmology here\n",
    "\n",
    "'''\n",
    "# WMAP1 Cosmology\n",
    "Om     0.270\n",
    "Ob     0.046\n",
    "OL     0.730\n",
    "sigma_8     0.90\n",
    "h           0.72\n",
    "ns          0.99\n",
    "'''\n",
    "\n",
    "#'''\n",
    "# Aseem's Cosmology\n",
    "sigma_8=0.811\n",
    "ns=0.961\n",
    "h=0.7\n",
    "Ob=0.045\n",
    "Om=0.276\n",
    "#'''\n",
    "\n",
    "'''\n",
    "# New Cosmology\n",
    "sigma_8=\n",
    "ns=\n",
    "h=\n",
    "'''"
   ]
  },
  {
   "cell_type": "code",
   "execution_count": 3,
   "metadata": {},
   "outputs": [],
   "source": [
    "# Defines the smoothening window functions\n",
    "def TopHat(k,R):\n",
    "    return (3/np.power(k*R,3))*(np.sin(k*R)-(k*R)*np.cos(k*R))\n",
    "\n",
    "def Gaussian(k,R):\n",
    "    return np.exp(np.power((k*R),2)/-2.0)"
   ]
  },
  {
   "cell_type": "code",
   "execution_count": 4,
   "metadata": {},
   "outputs": [],
   "source": [
    "# Loads transfer function data\n",
    "data=np.loadtxt(fname)\n",
    "k=np.array(data[:,0])\n",
    "fb=Ob/Om\n",
    "fcdm=1-fb\n",
    "T_k=np.array(fcdm*data[:,1]+fb*data[:,2])\n",
    "\n",
    "finesse=500000   # Finesse of 5e+5 works well for 2PC calculations for R<=50MPc  ==> Aseem\n",
    "#k_finer=np.linspace(np.min(k),np.max(k),finesse)\n",
    "k_finer=np.min(k)*np.exp(np.linspace(0.0,np.log(np.max(k)/np.min(k)),finesse))\n",
    "T_k_finer=np.interp(k_finer,k,T_k)"
   ]
  },
  {
   "cell_type": "code",
   "execution_count": 5,
   "metadata": {},
   "outputs": [
    {
     "name": "stdout",
     "output_type": "stream",
     "text": [
      "0.9953726071619561\n",
      "0.9963533876282248\n"
     ]
    }
   ],
   "source": [
    "# Computation of the variance\n",
    "top=TopHat(k,R)\n",
    "gaus=Gaussian(k,R)\n",
    "\n",
    "top_f=TopHat(k_finer,R)\n",
    "gaus_f=Gaussian(k_finer,R)\n",
    "\n",
    "res1=np.power(T_k,2)*(k**ns)   # Tf^2 x k^n\n",
    "res1=(k**3)*res1/(2*(np.pi**2))  # P(k)*k^3/2Pi^2 integrating with d(lnK)\n",
    "#res1=(k**2)*res1/(2*np.pi**2)  # integrating with dK\n",
    "res2=res1*(top**2)  # f1(k)=P(k)*K^3/2Pi^2 x W(kR)^2 (topHat)\n",
    "res3=res1*(gaus**2)  # f2(k)=\" \" \" \" \" \" W(kR)^2 (Gaussian)\n",
    "\n",
    "res1_f=np.power(T_k_finer,2)*(k_finer**ns)   # Tf^2 x k^n\n",
    "res1_f=(k_finer**3)*res1_f/(2*(np.pi**2))  # P(k)*k^3/2Pi^2 integrating with d(lnK)\n",
    "#res1_f=(k_finer**2)*res1_f/(2*np.pi**2)  # integrating with dK\n",
    "res2_f=res1_f*(top_f**2)  # f1(k)=P(k)*K^3/2Pi^2 x W(kR)^2 (topHat)\n",
    "res3_f=res1_f*(gaus_f**2)  # f2(k)=\" \" \" \" \" \" W(kR)^2 (Gaussian)\n",
    "\n",
    "ansTop=np.trapz(res2,np.log(k))\n",
    "#ansTop=np.trapz(res2,k)\n",
    "ansGaus=np.trapz(res3,np.log(k))\n",
    "#ansGaus=np.trapz(res3,k)\n",
    "\n",
    "ansTop_f=np.trapz(res2_f,np.log(k_finer))\n",
    "#ansTop_f=np.trapz(res2_f,k_finer)\n",
    "ansGaus_f=np.trapz(res3_f,np.log(k_finer))\n",
    "#ansGaus_f=np.trapz(res3_f,k_finer)\n",
    "\n",
    "AT=(sigma_8**2)/ansTop\n",
    "AG=(sigma_8**2)/ansGaus\n",
    "\n",
    "AT_f=(sigma_8**2)/ansTop_f\n",
    "AG_f=(sigma_8**2)/ansGaus_f\n",
    "\n",
    "print(AT_f/AT)\n",
    "print(AG_f/AG)"
   ]
  },
  {
   "cell_type": "code",
   "execution_count": 6,
   "metadata": {},
   "outputs": [],
   "source": [
    "# Computing dimensionless powerspectrum\n",
    "Dk_T=AT*res1\n",
    "Dk_T_f=AT_f*res1_f\n",
    "#print(np.interp(1.0,k,Dk_T)/np.interp(1.0,k_finer,Dk_T_f))\n",
    "\n",
    "Dk_G=AG*res1\n",
    "Dk_T_f=AT_f*res1_f"
   ]
  },
  {
   "cell_type": "code",
   "execution_count": 9,
   "metadata": {},
   "outputs": [],
   "source": [
    "#scale=k_finer\n",
    "#value=Dk_T_f\n",
    "scale=k\n",
    "value=Dk_T\n",
    "#with open('NormalizedDimensionlessPS_finessed.txt','w') as f:\n",
    "with open('NormalizedDimensionlessPS_atTFk.txt','w') as f:\n",
    "#    f.write('# Aseem\\'s Cosmology normalised linear theory Power Spectrum (Dimensionless) finessed over 50,000 k value interpolations over original Transfer Function input.\\n')\n",
    "    f.write('# Aseem\\'s Cosmology normalised linear theory Power Spectrum (Dimensionless) at the same k values as input Transfer Function.\\n')\n",
    "    f.write('# k   Dk\\n')\n",
    "    for i in range(0,len(scale)):\n",
    "        f.write(str(scale[i])+\"\\t\\t\"+str(value[i])+\"\\n\")"
   ]
  },
  {
   "cell_type": "code",
   "execution_count": 7,
   "metadata": {},
   "outputs": [],
   "source": [
    "R=pickle.load(open(\"./radii.p\",'rb'))\n",
    "xi_lin=[]\n",
    "for r in R:\n",
    "    xi_lin.append(np.trapz((Dk_T*TopHat(k,r)),np.log(k)))\n",
    "pickle.dump(np.array(xi_lin),open(\"./linearCorr\",\"wb\"))"
   ]
  },
  {
   "cell_type": "code",
   "execution_count": null,
   "metadata": {},
   "outputs": [],
   "source": []
  }
 ],
 "metadata": {
  "kernelspec": {
   "display_name": "Python 3",
   "language": "python",
   "name": "python3"
  },
  "language_info": {
   "codemirror_mode": {
    "name": "ipython",
    "version": 3
   },
   "file_extension": ".py",
   "mimetype": "text/x-python",
   "name": "python",
   "nbconvert_exporter": "python",
   "pygments_lexer": "ipython3",
   "version": "3.7.1"
  }
 },
 "nbformat": 4,
 "nbformat_minor": 2
}
