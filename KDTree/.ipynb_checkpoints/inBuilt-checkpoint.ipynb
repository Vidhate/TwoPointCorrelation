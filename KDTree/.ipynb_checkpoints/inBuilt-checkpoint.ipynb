{
 "cells": [
  {
   "cell_type": "code",
   "execution_count": 2,
   "metadata": {},
   "outputs": [],
   "source": [
    "import numpy as np\n",
    "import sklearn.neighbors as sk\n",
    "import pickle\n",
    "import time"
   ]
  },
  {
   "cell_type": "code",
   "execution_count": 1,
   "metadata": {},
   "outputs": [],
   "source": [
    "path=\"./../../../DLA Mock Catalogue/\"\n",
    "path2=\"./../Data/\"\n",
    "names=[\"DLAhost_snap49_r1_b1 (copy).txt\",\"DLAhost_snap49_r1_b1alpha (copy).txt\",\"DLAhost_snap49_r1_b1T10 (copy).txt\"]\n",
    "boxsize=150.0\n",
    "eps=1.0     # need eps (epsilon) to avoid 0/0 ratio computations"
   ]
  },
  {
   "cell_type": "code",
   "execution_count": 4,
   "metadata": {},
   "outputs": [],
   "source": [
    "def createBins(dR=2.0):\n",
    "    maxLength=boxsize*np.sqrt(3)\n",
    "    nBins=int(maxLength/dR)\n",
    "    offset=(maxLength-(dR*nBins))/2.0\n",
    "    bins=np.arange(0.0+offset,maxLength,dR)\n",
    "    bins=bins[:-1]    # erasing the last entry because screwed up in cpp computation. Also unimportant because result=0.\n",
    "    return bins"
   ]
  },
  {
   "cell_type": "code",
   "execution_count": 5,
   "metadata": {},
   "outputs": [],
   "source": [
    "# Reference: https://scikit-learn.org/stable/modules/generated/sklearn.neighbors.KDTree.html \n",
    "def correlationPP(pos,bins):    \n",
    "    pos_tree=sk.KDTree(pos)\n",
    "    c=pos_tree.two_point_correlation(pos,bins)\n",
    "    c1=np.array(c[:-1])\n",
    "    c2=np.array(c[1:])\n",
    "    return (c2-c1)"
   ]
  },
  {
   "cell_type": "code",
   "execution_count": 6,
   "metadata": {},
   "outputs": [],
   "source": [
    "# Reference to timing: https://stackoverflow.com/questions/7370801/measure-time-elapsed-in-python\n",
    "# Reference to random position generation : https://docs.scipy.org/doc/numpy-1.14.1/reference/generated/numpy.random.rand.html#numpy.random.rand\n",
    "def correlation(pos,dR=2.0):\n",
    "    bins=createBins(dR)\n",
    "    print(\"Bins created successfully\")\n",
    "    \n",
    "    rpos=np.random.rand(len(pos),3)*boxsize\n",
    "    print(\"Random distribution generated successfully\")\n",
    "    \n",
    "    start=time.time()\n",
    "    n_rr=np.array(correlationPP(rpos,bins),dtype='double')+eps\n",
    "    n_dd=np.array(correlationPP(pos,bins),dtype='double')+eps\n",
    "    \n",
    "    centeredBins=bins[:-1]*0.5+bins[1:]*0.5\n",
    "    correlationValue_KDT=(n_dd/n_rr)-1.0\n",
    "    end=time.time()\n",
    "    print(\"Computed 2pt Correlation using KDTree in \"+str(end-start)+\" seconds\")\n",
    "    \n",
    "    return centeredBins,correlationValue_KDT"
   ]
  },
  {
   "cell_type": "code",
   "execution_count": 1,
   "metadata": {},
   "outputs": [],
   "source": [
    "# Reference : https://stackoverflow.com/questions/6159900/correct-way-to-write-line-to-file\n",
    "def writeFile(bins,corrs,index):\n",
    "    outname=\"PyOUT \"+names[index]\n",
    "    with open(outname,'w') as o:\n",
    "        o.write(\"# KDTree 2 point correlation for input file:\"+names[index]+\"\\n\")\n",
    "        o.write(\"# Separation[R]     Correlation Value[Xi(R)]\\n\")\n",
    "        for b,c in zip(bins,corrs):\n",
    "            o.write(str(b)+\" \"+str(c)+\"\\n\")\n",
    "    print(\"Written to file\")"
   ]
  },
  {
   "cell_type": "code",
   "execution_count": 7,
   "metadata": {},
   "outputs": [
    {
     "name": "stdout",
     "output_type": "stream",
     "text": [
      "Bins created successfully\n",
      "Random distribution generated successfully\n",
      "Computed 2pt Correlation using KDTree in 4.526522159576416 seconds\n",
      "Written to file\n",
      "Bins created successfully\n",
      "Random distribution generated successfully\n",
      "Computed 2pt Correlation using KDTree in 0.4121212959289551 seconds\n",
      "Written to file\n",
      "Bins created successfully\n",
      "Random distribution generated successfully\n",
      "Computed 2pt Correlation using KDTree in 19.751514673233032 seconds\n",
      "Written to file\n"
     ]
    }
   ],
   "source": [
    "for i in range(0,len(names)):\n",
    "    fname=path+names[i]+\"_pickled\"\n",
    "    pos=pickle.load(open(fname,'rb'))\n",
    "    b,c=correlation(pos)\n",
    "    writeFile(b,c,i)"
   ]
  },
  {
   "cell_type": "code",
   "execution_count": null,
   "metadata": {},
   "outputs": [],
   "source": []
  }
 ],
 "metadata": {
  "kernelspec": {
   "display_name": "Python 3",
   "language": "python",
   "name": "python3"
  },
  "language_info": {
   "codemirror_mode": {
    "name": "ipython",
    "version": 3
   },
   "file_extension": ".py",
   "mimetype": "text/x-python",
   "name": "python",
   "nbconvert_exporter": "python",
   "pygments_lexer": "ipython3",
   "version": "3.7.1"
  }
 },
 "nbformat": 4,
 "nbformat_minor": 2
}
