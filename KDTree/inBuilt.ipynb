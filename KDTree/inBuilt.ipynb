{
 "cells": [
  {
   "cell_type": "code",
   "execution_count": 4,
   "metadata": {},
   "outputs": [],
   "source": [
    "import numpy as np\n",
    "import sklearn.neighbors as sk\n",
    "import pickle\n",
    "import time"
   ]
  },
  {
   "cell_type": "code",
   "execution_count": 5,
   "metadata": {},
   "outputs": [],
   "source": [
    "#path=\"./../../../DLA Mock Catalogue/\"\n",
    "path=\"./../Data/\"\n",
    "names=[\"DLAhost_snap49_r1_b1 (copy).txt\",\"DLAhost_snap49_r1_b1alpha (copy).txt\",\"DLAhost_snap49_r1_b1T10 (copy).txt\"]\n",
    "boxsize=150.0\n",
    "numPart=1024.0  # Number of particles will be the cube of this number\n",
    "forceRes=(boxsize/numPart)/30  # Force resolution to avoid diverging values is usually 1/30th mean-interparticle spacing\n",
    "maxLength=boxsize/4.0\n",
    "#The maximum length upto which bins should be split is 1/5th to 1/10th the size of the box for the following reasons:\n",
    "#- The boxes are periodic and any separation more than L/2 will require accessing other periodic boxes beyond the current one.\n",
    "#- Of the available perturbation modes in the box, the K_min(biggest wavelength)= 2*pi/boxlength. There are modes below this but they are constrained by the size of the simulation box. Hence, another maxlength cutoff on length greater than K_min ~ L/(5 to 10)\n",
    "#Being very flexible with this, I take the factor 4 for this run.\n",
    "minLength=10.0*forceRes\n",
    "eps=1.0     # need eps (epsilon) to avoid 0/0 ratio computations"
   ]
  },
  {
   "cell_type": "code",
   "execution_count": 6,
   "metadata": {},
   "outputs": [],
   "source": [
    "def createBins(dR=2.0,mode='log',numOfBins=30):\n",
    "    bins=[]\n",
    "    if(mode!='log' and mode!='lin'):\n",
    "        print(\"Issue with binning mode\")\n",
    "        exit()\n",
    "        \n",
    "    if(mode=='lin'):\n",
    "        nBins=int(maxLength/dR)\n",
    "        bins.append(np.arange(minLength,maxLength,dR))\n",
    "        bins=bins[:-1]    # erasing the last entry because screwed up in cpp computation. Also unimportant because result=0.\n",
    "    else:\n",
    "        limit=np.log10(maxLength/minLength)\n",
    "        marks=np.linspace(0.0,limit,numOfBins)\n",
    "        bins=minLength*(np.power(10,marks))\n",
    "    return bins"
   ]
  },
  {
   "cell_type": "code",
   "execution_count": 9,
   "metadata": {},
   "outputs": [],
   "source": [
    "# Reference: https://scikit-learn.org/stable/modules/generated/sklearn.neighbors.KDTree.html \n",
    "def correlationPP(pos,bins):\n",
    "    pos_tree=sk.KDTree(pos)\n",
    "    c=pos_tree.two_point_correlation(pos,bins)\n",
    "    c1=np.array(c[:-1])\n",
    "    c2=np.array(c[1:])\n",
    "    return (c2-c1)"
   ]
  },
  {
   "cell_type": "code",
   "execution_count": 13,
   "metadata": {},
   "outputs": [],
   "source": [
    "# Reference to timing: https://stackoverflow.com/questions/7370801/measure-time-elapsed-in-python\n",
    "# Reference to random position generation : https://docs.scipy.org/doc/numpy-1.14.1/reference/generated/numpy.random.rand.html#numpy.random.rand\n",
    "def correlation(pos,dR=2.0):\n",
    "    bins=createBins(mode=\"log\",numOfBins=30)\n",
    "    print(\"Bins created successfully\")\n",
    "    \n",
    "    rpos=np.random.rand(len(pos),3)*boxsize\n",
    "    print(\"Random distribution generated successfully\")\n",
    "    \n",
    "    start=time.time()\n",
    "    n_rr=np.array(correlationPP(rpos,bins),dtype='double')+eps\n",
    "    n_dd=np.array(correlationPP(pos,bins),dtype='double')+eps\n",
    "    \n",
    "    centeredBins=bins[:-1]*0.5+bins[1:]*0.5\n",
    "    correlationValue_KDT=(n_dd/n_rr)-1.0\n",
    "    end=time.time()\n",
    "    print(\"Computed 2pt Correlation using KDTree in \"+str(end-start)+\" seconds\")\n",
    "    \n",
    "    return centeredBins,correlationValue_KDT"
   ]
  },
  {
   "cell_type": "code",
   "execution_count": 16,
   "metadata": {},
   "outputs": [],
   "source": [
    "# Reference : https://stackoverflow.com/questions/6159900/correct-way-to-write-line-to-file\n",
    "def writeFile(bins,corrs,index):\n",
    "    outname=\"KDTree \"+names[index]\n",
    "    with open(outname,'w') as o:\n",
    "        o.write(\"# KDTree 2 point correlation for input file:\"+names[index]+\"\\n\")\n",
    "        o.write(\"# Separation[R]     Correlation Value[Xi(R)]\\n\")\n",
    "        for b,c in zip(bins,corrs):\n",
    "            o.write(str(b)+\" \"+str(c)+\"\\n\")\n",
    "    print(\"Written to file\")\n",
    "    print(\"\\n\")"
   ]
  },
  {
   "cell_type": "code",
   "execution_count": 17,
   "metadata": {},
   "outputs": [
    {
     "name": "stdout",
     "output_type": "stream",
     "text": [
      "Bins created successfully\n",
      "Random distribution generated successfully\n",
      "Computed 2pt Correlation using KDTree in 0.9146244525909424 seconds\n",
      "Written to file\n",
      "\n",
      "\n",
      "Bins created successfully\n",
      "Random distribution generated successfully\n",
      "Computed 2pt Correlation using KDTree in 0.11552858352661133 seconds\n",
      "Written to file\n",
      "\n",
      "\n",
      "Bins created successfully\n",
      "Random distribution generated successfully\n",
      "Computed 2pt Correlation using KDTree in 3.4143781661987305 seconds\n",
      "Written to file\n",
      "\n",
      "\n"
     ]
    }
   ],
   "source": [
    "for i in range(0,len(names)):\n",
    "    fname=path+names[i]+\"_pickled\"\n",
    "    pos=pickle.load(open(fname,'rb'))\n",
    "    b,c=correlation(pos)\n",
    "    writeFile(b,c,i)"
   ]
  },
  {
   "cell_type": "code",
   "execution_count": null,
   "metadata": {},
   "outputs": [],
   "source": []
  }
 ],
 "metadata": {
  "kernelspec": {
   "display_name": "Python 3",
   "language": "python",
   "name": "python3"
  },
  "language_info": {
   "codemirror_mode": {
    "name": "ipython",
    "version": 3
   },
   "file_extension": ".py",
   "mimetype": "text/x-python",
   "name": "python",
   "nbconvert_exporter": "python",
   "pygments_lexer": "ipython3",
   "version": "3.7.1"
  }
 },
 "nbformat": 4,
 "nbformat_minor": 2
}
