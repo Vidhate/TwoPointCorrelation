{
 "cells": [
  {
   "cell_type": "code",
   "execution_count": 21,
   "metadata": {},
   "outputs": [],
   "source": [
    "import numpy as np\n",
    "import matplotlib.pyplot as plt"
   ]
  },
  {
   "cell_type": "code",
   "execution_count": 22,
   "metadata": {},
   "outputs": [],
   "source": [
    "# Define the Cosmology here\n",
    "'''\n",
    "# WMAP1 Cosmology\n",
    "Om     0.270\n",
    "Ob     0.046\n",
    "OL     0.730\n",
    "sigma_8     0.90\n",
    "h           0.72\n",
    "ns          0.99\n",
    "'''\n",
    "\n",
    "#'''\n",
    "# Aseem's Cosmology\n",
    "sigma_8=0.811\n",
    "ns=0.961\n",
    "h=0.7\n",
    "Ob=0.045\n",
    "Om=0.276\n",
    "#'''"
   ]
  },
  {
   "cell_type": "code",
   "execution_count": 125,
   "metadata": {},
   "outputs": [],
   "source": [
    "# Constants and important parameters\n",
    "M_sun=1.989e+30  # M_sun in kg\n",
    "Mega_parsec=3.086e+22  # parsec in metres\n",
    "z=0.0         # Redshift specification\n",
    "Delta=200.0   # Overdensity definition = Delta X background\n",
    "M_min=2.6765e+11  # Units of Msun/h\n",
    "M_max=6.0536e+11  # Units of Msun/h\n",
    "rho_cr=((3*(100*h)**2)/(8*np.pi*6.673e-11))*((Mega_parsec/h**3)*1e+6/(M_sun/h))\n",
    "# critical density of the Universe today 3H^2/8Pi*G in units M_sun.h^-1/(MPc.h^-1)^3\n",
    "rho_m=omega_m*rho_cr*((1+z)**3)  # where a=1/(1+z)   Units same as rho_cr\n",
    "del_crit=1.69"
   ]
  },
  {
   "cell_type": "code",
   "execution_count": 129,
   "metadata": {},
   "outputs": [],
   "source": [
    "# Input data : Normalised Power spectrum\n",
    "#PS=np.loadtxt(\"./../Data/power_spectrum_camb_su1024_cosmology.txt\")\n",
    "PS=np.loadtxt(\"./../Normalize PS/NormalizedDimensionlessPS.txt\")\n",
    "k=PS[:,0]\n",
    "ps=PS[:,1]/(1+z)**2   # Dimensionless PS = k^3*P(k)/2Pi^2 at redshift z"
   ]
  },
  {
   "cell_type": "code",
   "execution_count": 130,
   "metadata": {},
   "outputs": [],
   "source": [
    "# Smoothing window functions Fourier Transformed in k-space\n",
    "def TopHat(k,R):\n",
    "    return (3.0/(k*R)**3)*(np.sin(k*R)-(k*R)*np.cos(k*R))\n",
    "\n",
    "def TopHat_derv(k,R):\n",
    "    return (-3.0*TopHat(k,R)/(k*R))+(3.0*np.sin(k*R)/(k*R)**2)\n",
    "\n",
    "def Gaussian(k,R):\n",
    "    return np.exp(-0.5*(k*R)**2)\n",
    "\n",
    "def Gaussian_derv(k,R):\n",
    "    return (-k*R)*Gaussian(k,R)"
   ]
  },
  {
   "cell_type": "code",
   "execution_count": 131,
   "metadata": {},
   "outputs": [],
   "source": [
    "# The smoothing scale R as a function of M. M to be passed in units M_sun/h. R returned will be in MPc/h \n",
    "# k is in units h/MPc, therefore kR will be unitless in the smoothening window\n",
    "const1=np.cbrt(3.0/(4.0*np.pi*rho_m))\n",
    "def R(M):\n",
    "    return const1*np.cbrt(M)"
   ]
  },
  {
   "cell_type": "code",
   "execution_count": 109,
   "metadata": {},
   "outputs": [],
   "source": [
    "# The rms variance of the linear density field smoothed on scale R(M)\n",
    "# Requires inputs on mass of halo in M_sun (to define R(M)) and the smoothing window type\n",
    "# Fourier modes 'k' are interpreted from the Power Spectrum by default.\n",
    "\n",
    "def sigma(M,W=\"TopHat\"):\n",
    "    window=[]\n",
    "    if(W==\"TopHat\"):\n",
    "        window=TopHat(k,R(M))\n",
    "    if(W==\"Gaussian\"):\n",
    "        window=Gaussian(k,R(M))\n",
    "    \n",
    "    window=np.array(window)\n",
    "    function=ps*(window**2)\n",
    "    result=np.trapz(function,np.log(k))\n",
    "    \n",
    "    return result"
   ]
  },
  {
   "cell_type": "code",
   "execution_count": 132,
   "metadata": {},
   "outputs": [],
   "source": [
    "# From Aseem's trick to computing d(sigma^2)/dR\n",
    "def sigma_derv(M,W='TopHat'):\n",
    "    window,derv=[],[]\n",
    "    if(W==\"TopHat\"):\n",
    "        window=TopHat(k,R(M))\n",
    "        derv=TopHat_derv(k,R(M))\n",
    "    if(W==\"Gaussian\"):\n",
    "        window=Gaussian(k,R(M))\n",
    "        derv=Gaussian_derv(k,R(M))\n",
    "    window=np.array(window)\n",
    "    derv=np.array(derv)\n",
    "    \n",
    "    function=2.0*ps*window*k*derv\n",
    "    result=np.trapz(function,np.log(k))\n",
    "    \n",
    "    return result"
   ]
  },
  {
   "cell_type": "code",
   "execution_count": 111,
   "metadata": {},
   "outputs": [
    {
     "data": {
      "image/png": "[encoded data removed]",
      "text/plain": [
       "<Figure size 432x288 with 1 Axes>"
      ]
     },
     "metadata": {
      "needs_background": "light"
     },
     "output_type": "display_data"
    }
   ],
   "source": [
    "Mb=np.linspace(M_min,M_max,1000)\n",
    "s=[]\n",
    "for i in range(0,len(Mb)):\n",
    "    s.append(sigma(Mb[i],W=\"Gaussian\"))\n",
    "\n",
    "plt.plot(Mb,s,markersize=1)\n",
    "plt.xscale(\"log\")\n",
    "plt.yscale(\"log\")\n",
    "plt.xlabel(\"M\")\n",
    "plt.ylabel(\"sigma(M)\")\n",
    "plt.show()"
   ]
  },
  {
   "cell_type": "code",
   "execution_count": 133,
   "metadata": {},
   "outputs": [],
   "source": [
    "# Parameters according to those given in the Tinker2008 paper [https://arxiv.org/pdf/0803.2706.pdf]\n",
    "params=np.loadtxt(\"./param.txt\")\n",
    "d=np.where(params[:,0]==Delta)\n",
    "A=float(params[d,1])*np.power((1+z),-0.14)\n",
    "a=float(params[d,2])*np.power((1+z),-0.06)\n",
    "alpha=np.exp(-1.0*(0.75/np.log(Delta/75)**1.2))    # required for Redshift evolution of parameter 'b'\n",
    "b=float(params[d,3])*np.power((1+z),-1.0*alpha)\n",
    "c=float(params[d,4])"
   ]
  },
  {
   "cell_type": "code",
   "execution_count": 134,
   "metadata": {},
   "outputs": [],
   "source": [
    "# This function finds the Tinker Universal fit for the Halo Mass function f(sigma)\n",
    "# It uses the Tinker parameters and argument is M in units M_sun\n",
    "\n",
    "def f(M):\n",
    "    s_sq=sigma(M,W=\"TopHat\")\n",
    "    s=np.sqrt(s_sq)\n",
    "    term0=s/b\n",
    "    term1=1.0+np.power(term0,-1.0*a)\n",
    "    term2=A*term1*np.exp(-1.0*c/s_sq)\n",
    "    return term2"
   ]
  },
  {
   "cell_type": "code",
   "execution_count": 135,
   "metadata": {},
   "outputs": [],
   "source": [
    "# This function returns the Tinker mass function dn/dm.\n",
    "# 30 bins are created by defualt between M_min and M_max as defined in the preamble above unless specified otherwise\n",
    "# Returns an array of number of Halos populating each logarithmic mass bin i.e return dn/dlnm\n",
    "\n",
    "def TMF(numOfBins=100,M_lower=-1,M_upper=-1):\n",
    "    massBins=[]\n",
    "    if(M_lower==-1 or M_upper==-1):\n",
    "        print(\"Invalid upper or lower limit on the mass of halos\")\n",
    "        exit()\n",
    "    else:\n",
    "        last=np.log(M_upper/M_lower)\n",
    "        massBins=M_lower*np.exp(np.linspace(0.0,last,numOfBins))    # Log spaced mass \n",
    "    massBins=np.array(massBins)\n",
    "    \n",
    "    f_sig=[]\n",
    "    for i in range(0,len(massBins)):\n",
    "        f_sig.append(f(massBins[i]))   # f(sigma)\n",
    "    term1=np.array(f_sig)   # term1 of TMF\n",
    "\n",
    "    term2=rho_m/massBins   # term2 of TMF\n",
    "    \n",
    "    sig,sig_derv=[],[]\n",
    "    for i in range(0,len(massBins)):\n",
    "        sig.append(sigma(massBins[i],W=\"TopHat\"))\n",
    "        sig_derv.append(sigma_derv(massBins[i],W=\"TopHat\"))\n",
    "        \n",
    "    sig=np.array(sig)\n",
    "    sig_derv=np.array(sig_derv)\n",
    "    \n",
    "    # dln(sigma^-1)/dlnM = -(R/6sigma^2)*d(sigma^2)/dR | d(sigma^2)/dR=sig_derv   ==> Aseem's Trick\n",
    "    term3_1=R(massBins)*sig_derv/(-6.0*sig)    # term 3 of TMF\n",
    "    term3_2=np.gradient(-1.0*np.log(np.sqrt(sig)),np.log(massBins))\n",
    "#    print(term3_1/term3_2)\n",
    "\n",
    "    result=(term1*term2*term3_1)\n",
    "    return result,massBins"
   ]
  },
  {
   "cell_type": "code",
   "execution_count": 136,
   "metadata": {},
   "outputs": [],
   "source": [
    "# Plotting and comparing with Tinker MF Graph in the paper\n",
    "M_lower=1e+12\n",
    "M_upper=1e+16\n",
    "nOB=100\n",
    "res,m_mid=TMF(nOB,M_lower,M_upper)"
   ]
  },
  {
   "cell_type": "code",
   "execution_count": 137,
   "metadata": {},
   "outputs": [
    {
     "name": "stdout",
     "output_type": "stream",
     "text": [
      "0.0037177133689855588 1000000000000.0\n"
     ]
    }
   ],
   "source": [
    "print(res[0],float(m_mid[0]))"
   ]
  },
  {
   "cell_type": "code",
   "execution_count": 139,
   "metadata": {},
   "outputs": [],
   "source": [
    "# Computation of Tinker Bias as a function of Nu(or Sigma) and the parameters as described in the paper\n",
    "y=np.log10(Delta)\n",
    "util1=np.exp(-1.0*(4/y)**4)\n",
    "A=1.0+(0.24*y*util1)\n",
    "a=0.44*y-0.88\n",
    "B=0.183\n",
    "b=1.5\n",
    "C=0.019+(0.107*y)+(0.19*util1)\n",
    "c=2.4\n",
    "\n",
    "def bias(M):\n",
    "    nu=del_crit/np.sqrt(sigma(M))\n",
    "    term1=A*nu**a/(nu**a + del_crit**a)\n",
    "    term2=B*nu**b\n",
    "    term3=C*nu**c\n",
    "    return 1.0-term1+term2+term3"
   ]
  },
  {
   "cell_type": "code",
   "execution_count": 142,
   "metadata": {},
   "outputs": [
    {
     "data": {
      "text/plain": [
       "2.1553815235013754"
      ]
     },
     "execution_count": 142,
     "metadata": {},
     "output_type": "execute_result"
    }
   ],
   "source": []
  },
  {
   "cell_type": "code",
   "execution_count": null,
   "metadata": {},
   "outputs": [],
   "source": []
  }
 ],
 "metadata": {
  "kernelspec": {
   "display_name": "Python 3",
   "language": "python",
   "name": "python3"
  },
  "language_info": {
   "codemirror_mode": {
    "name": "ipython",
    "version": 3
   },
   "file_extension": ".py",
   "mimetype": "text/x-python",
   "name": "python",
   "nbconvert_exporter": "python",
   "pygments_lexer": "ipython3",
   "version": "3.7.1"
  }
 },
 "nbformat": 4,
 "nbformat_minor": 2
}
