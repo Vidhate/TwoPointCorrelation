{
 "cells": [
  {
   "cell_type": "code",
   "execution_count": 114,
   "metadata": {},
   "outputs": [],
   "source": [
    "import numpy as np\n",
    "import matplotlib.pyplot as plt\n",
    "import pickle"
   ]
  },
  {
   "cell_type": "code",
   "execution_count": 115,
   "metadata": {},
   "outputs": [],
   "source": [
    "# Define the Cosmology here\n",
    "'''\n",
    "# WMAP1 Cosmology\n",
    "Om     0.270\n",
    "Ob     0.046\n",
    "OL     0.730\n",
    "sigma_8     0.90\n",
    "h           0.72\n",
    "ns          0.99\n",
    "'''\n",
    "\n",
    "#'''\n",
    "# Aseem's Cosmology\n",
    "sigma_8=0.811\n",
    "ns=0.961\n",
    "h=0.7\n",
    "Ob=0.045\n",
    "Om=0.276\n",
    "#'''"
   ]
  },
  {
   "cell_type": "code",
   "execution_count": 116,
   "metadata": {},
   "outputs": [],
   "source": [
    "# Constants and important parameters\n",
    "M_sun=1.989e+30  # M_sun in kg\n",
    "Mega_parsec=3.086e+22  # parsec in metres\n",
    "z=2.3         # Redshift specification\n",
    "Delta=200.0   # Overdensity definition = Delta X background\n",
    "rho_cr=((3*(100*h)**2)/(8*np.pi*6.673e-11))*((Mega_parsec/h**3)*1e+6/(M_sun/h))\n",
    "# critical density of the Universe today 3H^2/8Pi*G in units M_sun.h^-1/(MPc.h^-1)^3\n",
    "rho_m=Om*rho_cr*((1+z)**3)  # where a=1/(1+z)   Units same as rho_cr\n",
    "del_crit=1.69\n",
    "M_min=2.6765e+11  # Units of Msun/h\n",
    "M_max=6.0536e+11  # Units of Msun/h"
   ]
  },
  {
   "cell_type": "code",
   "execution_count": 117,
   "metadata": {},
   "outputs": [],
   "source": [
    "# Input data : Normalised Power spectrum\n",
    "\n",
    "PS=np.loadtxt(\"./../Normalize PS/NormalizedDimensionlessPS_finessed.txt\")\n",
    "#PS=np.loadtxt(\"./../Normalize PS/NormalizedDimensionlessPS_atTFk.txt\")\n",
    "k=PS[:,0]\n",
    "#ps=PS[:,1]/(1+z)**2   # Dimensionless PS = k^3*P(k)/2Pi^2 at redshift z\n",
    "ps=PS[:,1]"
   ]
  },
  {
   "cell_type": "code",
   "execution_count": 118,
   "metadata": {},
   "outputs": [],
   "source": [
    "# Smoothing window functions Fourier Transformed in k-space\n",
    "def TopHat(k,R):\n",
    "    return (3.0/(k*R)**3)*(np.sin(k*R)-(k*R)*np.cos(k*R))\n",
    "\n",
    "def TopHat_derv(k,R):\n",
    "    return (-3.0*TopHat(k,R)/(k*R))+(3.0*np.sin(k*R)/(k*R)**2)\n",
    "\n",
    "def Gaussian(k,R):\n",
    "    return np.exp(-0.5*(k*R)**2)\n",
    "\n",
    "def Gaussian_derv(k,R):\n",
    "    return (-k*R)*Gaussian(k,R)"
   ]
  },
  {
   "cell_type": "code",
   "execution_count": 119,
   "metadata": {},
   "outputs": [],
   "source": [
    "# The smoothing scale R as a function of M. M to be passed in units M_sun/h. R returned will be in MPc/h \n",
    "# k is in units h/MPc, therefore kR will be unitless in the smoothening window\n",
    "const1=np.cbrt(3.0/(4.0*np.pi*rho_m))\n",
    "def R(M):\n",
    "    return const1*np.cbrt(M)"
   ]
  },
  {
   "cell_type": "code",
   "execution_count": 120,
   "metadata": {},
   "outputs": [],
   "source": [
    "# The rms variance of the linear density field smoothed on scale R(M)\n",
    "# Requires inputs on mass of halo in M_sun (to define R(M)) and the smoothing window type\n",
    "# Fourier modes 'k' are interpreted from the Power Spectrum by default.\n",
    "\n",
    "def sigma(M,W=\"TopHat\",redshift=0.0):\n",
    "    Dk=ps/(1+redshift)**2    # P(k,z) is not used everywhere. Some calculations need P(k,0). Hence, pass z explicitly\n",
    "    r=np.array(R(M))\n",
    "    result=[]\n",
    "    \n",
    "    for i in range(0,len(r)):\n",
    "        window=[]\n",
    "        if(W==\"TopHat\"):\n",
    "            window=TopHat(k,r[i])\n",
    "        if(W==\"Gaussian\"):\n",
    "            window=Gaussian(k,r[i])\n",
    "\n",
    "        window=np.array(window)\n",
    "        function=Dk*(window**2)    # z dependent through ps\n",
    "        result.append(np.trapz(function,np.log(k)))\n",
    "    \n",
    "    return np.array(result)"
   ]
  },
  {
   "cell_type": "code",
   "execution_count": 121,
   "metadata": {},
   "outputs": [],
   "source": [
    "# From Aseem's trick to computing d(sigma^2)/dR\n",
    "def sigma_derv(M,W='TopHat',redshift=0.0):\n",
    "    Dk=ps/(1+redshift)**2   # P(k,z) is not used everywhere. Some calculations need P(k,0). Hence, pass z explicitly\n",
    "    r=np.array(R(M))\n",
    "    result=[]\n",
    "    \n",
    "    for i in range(0,len(r)):\n",
    "        window,derv=[],[]\n",
    "        if(W==\"TopHat\"):\n",
    "            window=TopHat(k,r[i])\n",
    "            derv=TopHat_derv(k,r[i])\n",
    "        if(W==\"Gaussian\"):\n",
    "            window=Gaussian(k,r[i])\n",
    "            derv=Gaussian_derv(k,r[i])\n",
    "        window=np.array(window)\n",
    "        derv=np.array(derv)\n",
    "\n",
    "        function=2.0*Dk*window*k*derv    # z dependent through ps\n",
    "        result.append(np.trapz(function,np.log(k)))\n",
    "    \n",
    "    return np.array(result)"
   ]
  },
  {
   "cell_type": "code",
   "execution_count": 122,
   "metadata": {},
   "outputs": [],
   "source": [
    "# Parameters according to those given in the Tinker2008 paper [https://arxiv.org/pdf/0803.2706.pdf]\n",
    "params=np.loadtxt(\"./param.txt\")\n",
    "d=np.where(params[:,0]==Delta)\n",
    "A=float(params[d,1])*np.power((1+z),-0.14)\n",
    "a=float(params[d,2])*np.power((1+z),-0.06)\n",
    "alpha=np.exp(-1.0*(0.75/np.log(Delta/75)**1.2))    # required for Redshift evolution of parameter 'b'\n",
    "b=float(params[d,3])*np.power((1+z),-1.0*alpha)\n",
    "c=float(params[d,4])"
   ]
  },
  {
   "cell_type": "code",
   "execution_count": 123,
   "metadata": {},
   "outputs": [],
   "source": [
    "# This function finds the Tinker Universal fit for the Halo Mass function f(sigma)\n",
    "# It uses the Tinker parameters and argument is sigma at defined mass bins in TMF()\n",
    "\n",
    "def f(sig):\n",
    "    s_sq=sig   # doing MF at z=0\n",
    "    s=np.sqrt(s_sq)\n",
    "    term0=s/b\n",
    "    term1=1.0+np.power(term0,-1.0*a)\n",
    "    term2=A*term1*np.exp(-1.0*c/s_sq)\n",
    "    return term2    # z dependence via Tinker Parameters and sigma"
   ]
  },
  {
   "cell_type": "code",
   "execution_count": 124,
   "metadata": {},
   "outputs": [],
   "source": [
    "# This function returns the Tinker mass function dn/dlnm.\n",
    "# 30 bins are created by defualt between M_min and M_max as defined in the preamble above unless specified otherwise\n",
    "# Returns an array of number of Halos populating each logarithmic mass bin i.e return dn/dlnm\n",
    "\n",
    "def TMF(numOfBins=1000,M_lower=1.0e+10,M_upper=1.0e+16):\n",
    "    massBins=[]\n",
    "    last=np.log(M_upper/M_lower)\n",
    "    massBins=M_lower*np.exp(np.linspace(0.0,last,numOfBins))    # Log spaced mass \n",
    "    massBins=np.array(massBins)\n",
    "    #massBins=np.linspace(M_lower,M_upper,numOfBins)\n",
    "\n",
    "    sig=sigma(massBins,redshift=z)    # disputed redshift dependence\n",
    "    sig_derv=sigma_derv(massBins,redshift=z)    # disputed redshift dependence\n",
    "    \n",
    "    term1=f(sig)   # term1 of TMF  | z dependence via f\n",
    "    term2=rho_m/massBins   # term2 of TMF   | z dependence via rho_m\n",
    "    \n",
    "    # dln(sigma^-1)/dlnM = -(R/6sigma^2)*d(sigma^2)/dR | d(sigma^2)/dR=sig_derv   ==> Aseem's Trick\n",
    "    term3_1=R(massBins)*sig_derv/(-6.0*sig)    # term 3 of TMF  |  z dependence via sigma\n",
    "    term3_2=np.gradient(-1.0*np.log(np.sqrt(sig)),np.log(massBins))   # The direct derivative\n",
    "\n",
    "    result=(term1*term2*term3_1)\n",
    "    return result,massBins"
   ]
  },
  {
   "cell_type": "code",
   "execution_count": 125,
   "metadata": {},
   "outputs": [],
   "source": [
    "# Plotting and comparing with Tinker MF Graph in the paper\n",
    "M_lower=M_min\n",
    "M_upper=M_max\n",
    "nOB=1000\n",
    "res,mB=TMF(nOB,M_lower,M_upper)\n",
    "#res,mB=TMF(nOB)"
   ]
  },
  {
   "cell_type": "code",
   "execution_count": 15,
   "metadata": {},
   "outputs": [],
   "source": [
    "\n",
    "#res2,mB2=TMF(nOB,M_lower,M_upper)   # with sigma always at z=0"
   ]
  },
  {
   "cell_type": "code",
   "execution_count": 126,
   "metadata": {},
   "outputs": [],
   "source": [
    "# Do what you want\n",
    "pickle.dump(res,open('LogMFV3.p','wb'))\n",
    "#pickle.dump(res2,open('LogMFV3_noz.p','wb'))\n",
    "\n",
    "#rho_m/np.trapz(res*mB,np.log(mB))"
   ]
  },
  {
   "cell_type": "code",
   "execution_count": 127,
   "metadata": {},
   "outputs": [],
   "source": [
    "# Computation of Tinker Bias as a function of Nu(or Sigma) and the parameters as described in the paper\n",
    "# Parameters with the underscore are the Bias parameters and those without are the mass function parameters\n",
    "y_=np.log10(Delta)\n",
    "util1_=np.exp(-1.0*(4/y_)**4)\n",
    "A_=1.0+(0.24*y_*util1_)\n",
    "a_=0.44*y_-0.88\n",
    "B_=0.183\n",
    "b_=1.5\n",
    "C_=0.019+(0.107*y_)+(0.19*util1_)\n",
    "c_=2.4\n",
    "\n",
    "def bias(M):\n",
    "    sig=np.sqrt(sigma(M,redshift=z))\n",
    "    nu=del_crit/sig\n",
    "    term1=A_/(1.0+sig**a_)\n",
    "    term2=B_*nu**b_\n",
    "    term3=C_*nu**c_\n",
    "    bias_tot=(1.0-term1+term2+term3)\n",
    "    \n",
    "    return bias_tot/(np.sum(res*M/rho_m)/res.size)"
   ]
  },
  {
   "cell_type": "code",
   "execution_count": 128,
   "metadata": {},
   "outputs": [],
   "source": [
    "res_b=bias(mB)\n",
    "# Do what you want"
   ]
  },
  {
   "cell_type": "code",
   "execution_count": 129,
   "metadata": {},
   "outputs": [],
   "source": [
    "pickle.dump(res_b,open('LogBiasV3.p','wb'))\n",
    "#pickle.dump(res_b2,open('LogBiasV3_noz.p','wb'))"
   ]
  },
  {
   "cell_type": "code",
   "execution_count": null,
   "metadata": {},
   "outputs": [],
   "source": []
  }
 ],
 "metadata": {
  "kernelspec": {
   "display_name": "Python 3",
   "language": "python",
   "name": "python3"
  },
  "language_info": {
   "codemirror_mode": {
    "name": "ipython",
    "version": 3
   },
   "file_extension": ".py",
   "mimetype": "text/x-python",
   "name": "python",
   "nbconvert_exporter": "python",
   "pygments_lexer": "ipython3",
   "version": "3.7.1"
  }
 },
 "nbformat": 4,
 "nbformat_minor": 2
}
