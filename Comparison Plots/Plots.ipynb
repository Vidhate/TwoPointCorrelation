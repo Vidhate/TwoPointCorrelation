{
 "cells": [
  {
   "cell_type": "code",
   "execution_count": null,
   "metadata": {},
   "outputs": [],
   "source": [
    "import matplotlib.pyplot as plt\n",
    "import numpy as np\n",
    "import itertools\n",
    "import matplotlib.cm as cm\n",
    "\n",
    "\n",
    "paths=[\"./../BruteForce/\",\"./../KDTree/\",\"./../Shadab/\"]\n",
    "fileNames=[\"DLAhost_snap49_r1_b1 (copy).txt\",\"DLAhost_snap49_r1_b1alpha (copy).txt\",\"DLAhost_snap49_r1_b1T10 (copy).txt\"]\n",
    "techniques=[\"BF\",\"KDTree\",\"SHDB\"]\n",
    "'''\n",
    "paths=[\"./../BruteForce/\",\"./../KDTree/\"]\n",
    "fileNames=[\"DLAhost_snap49_r1_b1 (copy).txt\",\"DLAhost_snap49_r1_b1alpha (copy).txt\",\"DLAhost_snap49_r1_b1T10 (copy).txt\"]\n",
    "techniques=[\"BF\",\"KDTree\"]\n",
    "'''\n",
    "setNumber=2\n",
    "\n",
    "colors1=itertools.cycle([\"r\",\"g\",\"b\"])\n",
    "colors2=cm.rainbow(np.linspace(0, 1, len(fileNames)*len(techniques)))"
   ]
  },
  {
   "cell_type": "code",
   "execution_count": null,
   "metadata": {},
   "outputs": [],
   "source": [
    "# File reading methods - 'rb'=raw bytes. Will interpret strings as bytes.\n",
    "figureNum=1\n",
    "for i in range(0,len(fileNames)):\n",
    "    plt.figure(figureNum,figsize=(10,6.5), dpi=200, facecolor='w', edgecolor='k')\n",
    "    for j in range(0,len(techniques)):\n",
    "        fname=paths[j]+techniques[j]+\" \"+fileNames[i]\n",
    "        bins=[]\n",
    "        corrs=[]\n",
    "        f=open(fname,'r')\n",
    "        for line in f:\n",
    "            if line[0]!='#':\n",
    "                data=line.split()\n",
    "                bins.append(float(data[0]))\n",
    "                corrs.append(float(data[1]))\n",
    "\n",
    "        plt.plot(bins, corrs, color=colors2[i*len(techniques)+j], marker='o', linestyle='dashed',linewidth=1, markersize=3,label=techniques[j])\n",
    "    \n",
    "    plt.legend()\n",
    "    plt.title(\"Dataset: \"+fileNames[i])\n",
    "    plt.xlabel(\"Separation[R]\")\n",
    "    plt.ylabel(\"Xi[R]\")\n",
    "    figureNum+=1\n",
    "    plt.savefig('set'+str(setNumber)+'_'+fileNames[i]+'.png', bbox_inches='tight')\n",
    "plt.show()"
   ]
  },
  {
   "cell_type": "code",
   "execution_count": null,
   "metadata": {},
   "outputs": [],
   "source": []
  }
 ],
 "metadata": {
  "kernelspec": {
   "display_name": "Python 3",
   "language": "python",
   "name": "python3"
  },
  "language_info": {
   "codemirror_mode": {
    "name": "ipython",
    "version": 3
   },
   "file_extension": ".py",
   "mimetype": "text/x-python",
   "name": "python",
   "nbconvert_exporter": "python",
   "pygments_lexer": "ipython3",
   "version": "3.7.1"
  }
 },
 "nbformat": 4,
 "nbformat_minor": 2
}
